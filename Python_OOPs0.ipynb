{
  "nbformat": 4,
  "nbformat_minor": 0,
  "metadata": {
    "colab": {
      "provenance": []
    },
    "kernelspec": {
      "name": "python3",
      "display_name": "Python 3"
    },
    "language_info": {
      "name": "python"
    }
  },
  "cells": [
    {
      "cell_type": "markdown",
      "source": [
        "# **1) What is Object-Orient1) ed Programming (OOP)?**\n",
        "\n",
        "ANS -  Definition:\n",
        "Object-Oriented Programming (OOP) is a programming paradigm (style of programming) that organizes software design around objects rather than functions and logic.\n",
        "An object is a data structure that contains both data (attributes or properties) and methods (functions or behaviors) that operate on the data.\n",
        "\n",
        "     Key Concepts of OOP:\n",
        "     1) Class:\n",
        "\n",
        "* A blueprint or template for creating objects.\n",
        "\n",
        "* Defines the properties (attributes) and behaviors (methods).\n",
        "\n",
        "* Example: class Car { }\n",
        "\n",
        "\n",
        "2)  Object:\n",
        "* An instance of a class.\n",
        "\n",
        "* A real entity created from a class.\n",
        "\n",
        "* Example: myCar = new Car();\n",
        "\n",
        "\n",
        "3) Encapsulation :\n",
        " * Bundling data (attributes) and methods together.\n",
        " * Hiding internal details and exposing only necessary parts.\n",
        " * Example: private variables with public getter/setter methods.\n",
        "\n",
        " 4)Inheritance:\n",
        "\n",
        " * One class (child) inherits properties and methods from another class (parent).\n",
        "\n",
        "* Promotes code reuse.\n",
        "\n",
        " * Example: class ElectricCar extends Car { }\n",
        "\n",
        "5) Polymorphism:\n",
        "* Ability to use the same method name but behave differently depending on the object.\n",
        "\n",
        "* Example: drive() method behaves differently in Car and Truck.\n",
        "\n",
        "6) Abstraction:\n",
        "\n",
        "* Hiding complex implementation and showing only essential features.\n",
        "* Example: An interface or abstract class.\n",
        "\n",
        "    \n",
        "    Example (Python):"
      ],
      "metadata": {
        "id": "bQRuR2F2lyIz"
      }
    },
    {
      "cell_type": "code",
      "source": [
        "class Animal:\n",
        "    def __init__(self, name):\n",
        "        self.name = name\n",
        "\n",
        "    def speak(self):\n",
        "        print(\"Animal sound\")\n",
        "\n",
        "class Dog(Animal):  # Inheritance\n",
        "    def speak(self):  # Polymorphism (method overriding)\n",
        "        print(\"Woof!\")\n",
        "\n",
        "dog = Dog(\"Buddy\")  # Creating object\n",
        "dog.speak()  # Output: Woof!\n"
      ],
      "metadata": {
        "colab": {
          "base_uri": "https://localhost:8080/"
        },
        "id": "hvhkrUPQopWM",
        "outputId": "dfc08e94-72b9-4640-fbeb-a4ea5605c0b8"
      },
      "execution_count": null,
      "outputs": [
        {
          "output_type": "stream",
          "name": "stdout",
          "text": [
            "Woof!\n"
          ]
        }
      ]
    },
    {
      "cell_type": "markdown",
      "source": [
        "Why use OOP?\n",
        "\n",
        "✅ Makes code modular and reusable\n",
        "✅ Improves maintainability and scalability\n",
        "✅ Helps in modeling real-world systems\n",
        "\n",
        "short:\n",
        " OOP = Classes + Objects + Encapsulation + Inheritance + Polymorphism + Abstraction\n",
        "\n"
      ],
      "metadata": {
        "id": "FpYirFEVo5z8"
      }
    },
    {
      "cell_type": "markdown",
      "source": [
        "# 2) **What is a class in OOP+**\n",
        "\n",
        "ANS- A class in Object-Oriented Programming (OOP) is a blueprint or template for creating objects.\n",
        "\n",
        "It defines:\n",
        "* Attributes (data) → the properties or variables of an object.\n",
        "* Methods (functions) → the actions or behaviors the object can perform.\n",
        "\n",
        " Think of a class as a design plan — like an architect’s blueprint for a house. The class defines what a house should have (rooms, doors) and what it can do (open doors, turn on lights). But no real house exists until you instantiate (create) one from the blueprint.\n",
        "\n",
        " | Concept | Real-world analogy                      |\n",
        "| ------- | --------------------------------------- |\n",
        "| Class   | Blueprint of a Car                      |\n",
        "| Object  | A specific Car (e.g., your Honda Civic) |\n",
        "\n",
        "        Key points:\n",
        "        * A class does NOT occupy memory until an object is created from it.\n",
        "        * An object is an instance of a class.\n",
        "\n",
        "    Basic example in Python:     "
      ],
      "metadata": {
        "id": "MjyG7eGopGm0"
      }
    },
    {
      "cell_type": "code",
      "source": [
        "class Person:  # This is a class\n",
        "    def __init__(self, name, age):  # Constructor method\n",
        "        self.name = name  # Attribute\n",
        "        self.age = age\n",
        "\n",
        "    def greet(self):  # Method\n",
        "        print(f\"Hello, my name is {self.name} and I am {self.age} years old.\")\n",
        "\n",
        "# Creating an object from the class\n",
        "person1 = Person(\"Alice\", 30)\n",
        "person1.greet()  # Output: Hello, my name is Alice and I am 30 years old.\n"
      ],
      "metadata": {
        "colab": {
          "base_uri": "https://localhost:8080/"
        },
        "id": "3RVa2lf5rORV",
        "outputId": "0806f4d8-ce4d-4a65-c633-b57a25cff49e"
      },
      "execution_count": null,
      "outputs": [
        {
          "output_type": "stream",
          "name": "stdout",
          "text": [
            "Hello, my name is Alice and I am 30 years old.\n"
          ]
        }
      ]
    },
    {
      "cell_type": "markdown",
      "source": [
        "Why use classes?\n",
        "* To organize code logically\n",
        "* To reuse code easily (create multiple objects from one class)\n",
        "* To model real-world entities with properties and behaviors\n",
        "\n",
        "  In simple words:\n",
        "* A class = recipe or plan for making objects.\n",
        "* An object = actual thing created using the class.\n",
        "\n"
      ],
      "metadata": {
        "id": "TRAbR0xnrhF0"
      }
    },
    {
      "cell_type": "markdown",
      "source": [
        "# 3)**What is an Object in OOP?**\n",
        "\n",
        "ans- An object in Object-Oriented Programming (OOP) is a specific instance of a class.\n",
        "It represents a real-world entity that has:\n",
        "* Attributes (data/properties) → what it has\n",
        "* Methods (functions/behaviors) → what it can do\n",
        "If a class is a blueprint, then an object is the actual thing built from that blueprint.\n",
        "\n",
        " | Concept | Real-world analogy       |\n",
        "| ------- | ------------------------ |\n",
        "| Class   | Blueprint for a car      |\n",
        "| Object  | A real car you can drive |\n",
        "\n",
        " A class defines what an object should have, but an object is the actual product you can use.\n",
        "\n",
        " Key points:\n",
        " * An object is created from a class (using instantiation).\n",
        " * You can create multiple objects from the same class, each with its own data.\n",
        " * Objects occupy memory (unlike classes themselves).\n",
        "\n",
        " Example\n"
      ],
      "metadata": {
        "id": "qt9mvpjaE-uV"
      }
    },
    {
      "cell_type": "code",
      "source": [
        "class Dog:\n",
        "    def __init__(self, name, age):\n",
        "        self.name = name\n",
        "        self.age = age\n",
        "\n",
        "    def bark(self):\n",
        "        print(f\"{self.name} says woof!\")\n",
        "\n",
        "# Creating objects\n",
        "dog1 = Dog(\"Buddy\", 3)\n",
        "dog2 = Dog(\"Charlie\", 5)\n",
        "\n",
        "dog1.bark()  # Output: Buddy says woof!\n",
        "dog2.bark()  # Output: Charlie says woof!\n"
      ],
      "metadata": {
        "colab": {
          "base_uri": "https://localhost:8080/"
        },
        "id": "aR5KfS_mFst8",
        "outputId": "cc9e8072-7f1b-453e-82fb-ec2b4695c46d"
      },
      "execution_count": null,
      "outputs": [
        {
          "output_type": "stream",
          "name": "stdout",
          "text": [
            "Buddy says woof!\n",
            "Charlie says woof!\n"
          ]
        }
      ]
    },
    {
      "cell_type": "markdown",
      "source": [
        "n this example:\n",
        "✅ Dog → class\n",
        "✅ dog1, dog2 → objects (two different dogs, each with their own name and age)\n",
        "\n",
        "**Why are objects important?**\n",
        "\n",
        " Ans - * They encapsulate data and behavior together\n",
        "* They help you model real-world entities\n",
        "* They allow you to reuse and manage code easily\n",
        "\n",
        "Object properties:\n",
        "   Every object has:\n",
        "   1) Identity → unique existence in memory\n",
        "   2)State → values of its attributes\n",
        "   3)Behavior → methods it can perform\n",
        "\n",
        "  Simple breakdown:\n",
        "     Class = what it is\n",
        " Object = actual example of it\n",
        "\n",
        "You can have many objects from one class, each with different values!\n",
        "\n",
        "\n"
      ],
      "metadata": {
        "id": "K1giHJqFFyYk"
      }
    },
    {
      "cell_type": "markdown",
      "source": [
        "# 4) **What is the difference between abstraction and encapsulation+**\n",
        "\n",
        "ans- antastic question! Many people confuse abstraction and encapsulation because they are related, but they are different concepts in Object-Oriented Programming (OOP). Let’s break them down side by side\n",
        "\n",
        "     ** Difference Between Abstraction and Encapsulation:**\n",
        "     | **Aspect**     | **Abstraction**                                                                                   | **Encapsulation**                                                                                                              |\n",
        "| -------------- | ------------------------------------------------------------------------------------------------- | ------------------------------------------------------------------------------------------------------------------------------ |\n",
        "| **Definition** | Hiding **complexity** and showing only **essential features** to the user.                        | Hiding **internal data** and restricting direct access to it; exposing it through **controlled interfaces** (getters/setters). |\n",
        "| **Goal**       | Focus on **what** an object does, not **how** it does it.                                         | Protect the object’s data from unauthorized access and modification.                                                           |\n",
        "| **How?**       | Achieved using **abstract classes**, **interfaces**, or **methods with hidden implementation**.   | Achieved using **access modifiers** (private, protected, public) and **getter/setter methods**.                                |\n",
        "| **Example**    | A car driver uses the **steering wheel** without knowing the **mechanics of turning the wheels**. | The car’s **engine** is sealed; users can’t change internal parts directly but can **turn it on/off** via a button.            |\n",
        "| **Main focus** | **Hiding details** and reducing complexity.                                                       | **Hiding data** and controlling access to data.                                                                                |\n",
        "\n",
        "# **Simple analogy:**\n",
        "\n",
        "* Abstraction → You don’t need to know how it works internally, only what you can do with it.\n",
        "*  Encapsulation → You cannot directly change or access certain parts; must use defined interfaces to interact safely.\n",
        "    \n",
        "       Code Example:\n",
        "       Encapsulation example:"
      ],
      "metadata": {
        "id": "NbNkeGpzGpAL"
      }
    },
    {
      "cell_type": "code",
      "source": [
        "class Account:\n",
        "    def __init__(self, balance):\n",
        "        self.__balance = balance  # Private attribute\n",
        "\n",
        "    def deposit(self, amount):\n",
        "        self.__balance += amount\n",
        "\n",
        "    def get_balance(self):\n",
        "        return self.__balance\n",
        "\n",
        "acc = Account(1000)\n",
        "acc.deposit(500)\n",
        "print(acc.get_balance())  # 1500\n",
        "# print(acc.__balance)  # ❌ Error: can't access private attribute\n"
      ],
      "metadata": {
        "colab": {
          "base_uri": "https://localhost:8080/"
        },
        "id": "0LtCpvE9HluD",
        "outputId": "bf0922f3-f8a5-479a-9393-ebc9189aeeaf"
      },
      "execution_count": null,
      "outputs": [
        {
          "output_type": "stream",
          "name": "stdout",
          "text": [
            "1500\n"
          ]
        }
      ]
    },
    {
      "cell_type": "markdown",
      "source": [
        " Here, the balance is encapsulated (hidden) → you can’t access __balance directly."
      ],
      "metadata": {
        "id": "LeJrCDyrHo2k"
      }
    },
    {
      "cell_type": "markdown",
      "source": [
        "# **Abstraction example:**"
      ],
      "metadata": {
        "id": "ePG8_foOHuG8"
      }
    },
    {
      "cell_type": "code",
      "source": [
        "from abc import ABC, abstractmethod\n",
        "\n",
        "class Animal(ABC):\n",
        "    @abstractmethod\n",
        "    def make_sound(self):\n",
        "        pass\n",
        "\n",
        "class Dog(Animal):\n",
        "    def make_sound(self):\n",
        "        print(\"Woof!\")\n",
        "\n",
        "d = Dog()\n",
        "d.make_sound()  # Woof!\n"
      ],
      "metadata": {
        "colab": {
          "base_uri": "https://localhost:8080/"
        },
        "id": "Uguk6WfJH07c",
        "outputId": "484016e0-cb16-48ad-d3f7-e5b8fc99090c"
      },
      "execution_count": null,
      "outputs": [
        {
          "output_type": "stream",
          "name": "stdout",
          "text": [
            "Woof!\n"
          ]
        }
      ]
    },
    {
      "cell_type": "markdown",
      "source": [
        "Here, Animal class provides an abstract method → we don’t care how make_sound is implemented; we just know that every subclass will provide a sound."
      ],
      "metadata": {
        "id": "x3Ih8TfTGj_s"
      }
    },
    {
      "cell_type": "markdown",
      "source": [
        "# **Quick Summary:**\n",
        "\n",
        "*  Abstraction = focus on WHAT → hide complexity\n",
        "* Encapsulation = focus on HOW → hide data\n",
        "\n",
        "   You can have both together! For example:\n",
        "  * You encapsulate data inside a class (private attributes)\n",
        "  * You abstract behaviors by hiding implementation details\n",
        "\n"
      ],
      "metadata": {
        "id": "pj63knVoH6rU"
      }
    },
    {
      "cell_type": "markdown",
      "source": [
        "# **5)What are Dunder Methods in Python?**\n",
        "\n",
        "ans - \"Dunder methods\" (short for Double UNDERSCORE methods) are special methods in Python that have names starting and ending with double underscores (__).\n",
        "\n",
        "They are also called magic methods or special methods.\n",
        "\n",
        "👉 These methods let you define or customize the behavior of your objects for built-in Python operations (like printing, addition, indexing, etc.).\n",
        "\n",
        "\n",
        "#  ***Why are they called dunder?***\n",
        "\n",
        "⭐ Because they look like:\n",
        "__methodname__ → \"dunder methodname\" (double underscore)\n",
        "\n",
        "Examples: __init__, __str__, __len__, __add__, __getitem__, etc.\n",
        "\n",
        "#   Common uses of dunder methods:\n",
        "\n",
        " | **Dunder Method** | **Purpose**                                      | **Example**                 |\n",
        "| ----------------- | ------------------------------------------------ | --------------------------- |\n",
        "| `__init__`        | Constructor → initialize a new object            | Called when creating object |\n",
        "| `__str__`         | String representation → for `print()` or `str()` | Customize print output      |\n",
        "| `__repr__`        | Official string representation                   | Used in `repr()` or console |\n",
        "| `__len__`         | Length → used by `len()`                         | Returns length              |\n",
        "| `__add__`         | Add → customize `+` operator                     | Define addition behavior    |\n",
        "| `__getitem__`     | Indexing → customize `obj[key]`                  | Get item by index/key       |\n",
        "\n",
        " Example:"
      ],
      "metadata": {
        "id": "u3qPZGSoIO2k"
      }
    },
    {
      "cell_type": "code",
      "source": [
        "class Book:\n",
        "    def __init__(self, title, pages):\n",
        "        self.title = title\n",
        "        self.pages = pages\n",
        "\n",
        "    def __str__(self):\n",
        "        return f\"Book: {self.title}\"\n",
        "\n",
        "    def __len__(self):\n",
        "        return self.pages\n",
        "\n",
        "book1 = Book(\"Python Basics\", 350)\n",
        "\n",
        "print(book1)         # Calls __str__ → Output: Book: Python Basics\n",
        "print(len(book1))    # Calls __len__ → Output: 350\n"
      ],
      "metadata": {
        "colab": {
          "base_uri": "https://localhost:8080/"
        },
        "id": "tl2E-AE8JaHs",
        "outputId": "a8bd0520-a2f1-4b50-db8c-71af518cc6b6"
      },
      "execution_count": null,
      "outputs": [
        {
          "output_type": "stream",
          "name": "stdout",
          "text": [
            "Book: Python Basics\n",
            "350\n"
          ]
        }
      ]
    },
    {
      "cell_type": "markdown",
      "source": [
        "✅ Here:\n",
        "\n",
        "__init__ → initializes title and pages\n",
        "\n",
        "__str__ → customizes print(book1)\n",
        "\n",
        "__len__ → allows using len(book1)"
      ],
      "metadata": {
        "id": "Y4z9nNk1Jcxt"
      }
    },
    {
      "cell_type": "markdown",
      "source": [
        "# **Why use dunder methods?**\n",
        "\n",
        "ans- ✅ To make your custom classes behave like built-in types\n",
        "✅ To overload operators (e.g., +, -, <, ==)\n",
        "✅ To improve readability and usability of your objects\n",
        "\n",
        "**Note:**\n",
        "Dunder methods are called automatically by Python in specific situations.\n",
        "You shouldn’t call them directly (e.g., obj.__str__()) → instead use the standard function (str(obj)).\n",
        "\n",
        "short:\n",
        "Dunder methods = \"behind-the-scenes\" methods that control object behavior in Python’s syntax and built-in functions."
      ],
      "metadata": {
        "id": "0tXas0qFJkjc"
      }
    },
    {
      "cell_type": "markdown",
      "source": [
        "# **6) Explain the concept of inheritance in OOPH**\n",
        "\n",
        "ans- ✅ Inheritance is a core concept of OOP where a new class (child class) derives properties and behaviors (attributes and methods) from an existing class (parent class).\n",
        "\n",
        "👉 It allows code reuse → you don’t have to write the same code again in the child class.\n",
        "\n",
        "In real life, a child inherits traits from parents. Similarly, a child class inherits functionality from the parent class.\n",
        "\n",
        "  **Why use inheritance?**\n",
        "\n",
        " 1) To reuse code (avoid duplication)\n",
        "\n",
        "2)To extend or specialize behavior\n",
        "\n",
        "3)To build hierarchies and relationships\n",
        "\n",
        " ** Key terms:**\n",
        " | Term             | Meaning                                    |\n",
        "| ---------------- | ------------------------------------------ |\n",
        "| **Parent class** | The base/superclass (original class)       |\n",
        "| **Child class**  | The derived/subclass (class that inherits) |\n",
        "\n",
        "✅ The child class inherits everything from the parent but can also:\n",
        "\n",
        "\n",
        "\n",
        "*  Add new attributes/methods\n",
        "* Override (change) inherited methods\n",
        "\n",
        "Example :\n",
        "\n"
      ],
      "metadata": {
        "id": "4Pv-x7ElJ11T"
      }
    },
    {
      "cell_type": "code",
      "source": [
        "class Animal:  # Parent class\n",
        "    def speak(self):\n",
        "        print(\"Animal sound\")\n",
        "\n",
        "class Dog(Animal):  # Child class (inherits Animal)\n",
        "    def speak(self):  # Overriding parent method\n",
        "        print(\"Woof!\")\n",
        "\n",
        "dog1 = Dog()\n",
        "dog1.speak()  # Output: Woof!\n"
      ],
      "metadata": {
        "colab": {
          "base_uri": "https://localhost:8080/"
        },
        "id": "feHl66EKKzN1",
        "outputId": "c5fd681c-ae79-46fb-ec14-92554cc7eed3"
      },
      "execution_count": null,
      "outputs": [
        {
          "output_type": "stream",
          "name": "stdout",
          "text": [
            "Woof!\n"
          ]
        }
      ]
    },
    {
      "cell_type": "markdown",
      "source": [
        "✅ Here:\n",
        "\n",
        "✅ Attributes (variables)\n",
        "✅ Methods (functions)\n",
        "✅ Everything public or protected from the parent\n",
        "\n",
        "(Private members are not inherited directly)"
      ],
      "metadata": {
        "id": "etnTPnmIK2zc"
      }
    },
    {
      "cell_type": "markdown",
      "source": [
        "# **Types of inheritance (depending on language support):**\n",
        "\n",
        "ans-1) Single inheritance → One child inherits from one parent\n",
        "\n",
        "2)Multiple inheritance → One child inherits from multiple parents\n",
        "\n",
        "3)Multilevel inheritance → A child becomes parent for another class\n",
        "\n",
        "4)Hierarchical inheritance → Multiple children inherit from same parent\n",
        "\n",
        "\n",
        "**Example of multilevel inheritance:**\n",
        "\n"
      ],
      "metadata": {
        "id": "f8gV_MpRK7ib"
      }
    },
    {
      "cell_type": "code",
      "source": [
        "class Animal:\n",
        "    def speak(self):\n",
        "        print(\"Animal sound\")\n",
        "\n",
        "class Dog(Animal):\n",
        "    def speak(self):\n",
        "        print(\"Woof!\")\n",
        "\n",
        "class Puppy(Dog):\n",
        "    def speak(self):\n",
        "        print(\"Yip!\")\n",
        "\n",
        "puppy1 = Puppy()\n",
        "puppy1.speak()  # Output: Yip!\n"
      ],
      "metadata": {
        "colab": {
          "base_uri": "https://localhost:8080/"
        },
        "id": "o-GSaSWLLT4c",
        "outputId": "3bfef1a0-abdc-4042-9079-c956fd5cae41"
      },
      "execution_count": null,
      "outputs": [
        {
          "output_type": "stream",
          "name": "stdout",
          "text": [
            "Yip!\n"
          ]
        }
      ]
    },
    {
      "cell_type": "markdown",
      "source": [
        " **Benefits of Inheritance:**\n",
        "\n",
        " ✅ Promotes code reuse\n",
        "✅ Supports polymorphism (child can behave differently)\n",
        "✅ Makes code organized and extensible\n",
        "\n",
        " **In plain words:**\n",
        "\n",
        " 👉 Inheritance = child class gets everything from parent class + can customize or extend it."
      ],
      "metadata": {
        "id": "X02sSjnJLY5s"
      }
    },
    {
      "cell_type": "markdown",
      "source": [
        "# **7) What is polymorphism in OOP+**\n",
        "\n",
        "ans - ✅ Polymorphism comes from the Greek words \"poly\" (many) and \"morph\" (forms).\n",
        "It means \"many forms.\"\n",
        "\n",
        "In OOP, polymorphism allows objects of different classes to be treated as objects of a common parent class—even though they behave differently.\n",
        "\n",
        "👉 It allows the same method name or operator to work differently depending on the object.\n",
        "\n",
        "**Why is polymorphism useful?**\n",
        "\n",
        "✅ Makes code flexible and extensible\n",
        "✅ You can write general code that works with different types of objects\n",
        "\n",
        "**Types of polymorphism**:\n",
        "\n",
        "| Type                      | Meaning                                      |\n",
        "| ------------------------- | -------------------------------------------- |\n",
        "| **Compile-time** (static) | Method overloading / operator overloading    |\n",
        "| **Run-time** (dynamic)    | Method overriding → decision made at runtime |\n",
        "\n",
        " **Example analogy:**\n",
        "\n",
        " Imagine a function speak():\n",
        "\n",
        "* If called on a Dog, it says \"Woof!\"\n",
        "\n",
        "* If called on a Cat, it says \"Meow!\"\n",
        "\n",
        "* If called on a Cow, it says \"Moo!\"\n",
        "\n",
        "Same function name → different behavior depending on object.\n",
        "\n",
        "Example:\n",
        "\n",
        "\n",
        "\n"
      ],
      "metadata": {
        "id": "rMywpbvvLk4k"
      }
    },
    {
      "cell_type": "code",
      "source": [
        "class Animal:\n",
        "    def speak(self):\n",
        "        print(\"Animal sound\")\n",
        "\n",
        "class Dog(Animal):\n",
        "    def speak(self):\n",
        "        print(\"Woof!\")\n",
        "\n",
        "class Cat(Animal):\n",
        "    def speak(self):\n",
        "        print(\"Meow!\")\n",
        "\n",
        "animals = [Dog(), Cat()]\n",
        "\n",
        "for animal in animals:\n",
        "    animal.speak()\n"
      ],
      "metadata": {
        "colab": {
          "base_uri": "https://localhost:8080/"
        },
        "id": "zuysYxMNMTgE",
        "outputId": "0e811023-417c-4a5b-8edf-ac02e41dd2b5"
      },
      "execution_count": null,
      "outputs": [
        {
          "output_type": "stream",
          "name": "stdout",
          "text": [
            "Woof!\n",
            "Meow!\n"
          ]
        }
      ]
    },
    {
      "cell_type": "markdown",
      "source": [
        "Even though both objects are treated as Animal, they behave differently → polymorphism!"
      ],
      "metadata": {
        "id": "-omfjTu1MXZk"
      }
    },
    {
      "cell_type": "markdown",
      "source": [
        "✨ Two main ways polymorphism happens:\n",
        "\n",
        "1️⃣ Method Overriding (runtime polymorphism):\n",
        "\n",
        "* Child class overrides a method from the parent class with a new implementation.\n",
        "\n",
        "Example: Dog.speak() overrides Animal.speak()\n",
        "\n",
        "2️⃣ Method Overloading (compile-time polymorphism, not in Python but in Java/C++):\n",
        "Same method name with different parameters in the same class.\n",
        "\n",
        "Example (Java):\n"
      ],
      "metadata": {
        "id": "uO3M0rIBMYbM"
      }
    },
    {
      "cell_type": "code",
      "source": [
        "class Calculator {\n",
        "    int add(int a, int b) { return a + b; }\n",
        "    int add(int a, int b, int c) { return a + b + c; }\n",
        "}\n"
      ],
      "metadata": {
        "id": "8anTRMPcMw5c"
      },
      "execution_count": null,
      "outputs": []
    },
    {
      "cell_type": "markdown",
      "source": [
        "🎯 **Key benefits of polymorphism:**\n",
        "\n",
        "✅ Makes code generic and reusable\n",
        "✅ Allows extending behavior without changing existing code\n",
        "✅ Supports interfaces and abstract classes\n",
        "\n",
        "**In plain words**:\n",
        "👉 Polymorphism = same name, different behavior depending on the object.\n"
      ],
      "metadata": {
        "id": "eSLuVfRwM0JN"
      }
    },
    {
      "cell_type": "markdown",
      "source": [
        "# **8) How is encapsulation achieved in Python+**\n",
        "\n",
        "ans - **Encapsulation in Python:**\n",
        "\n",
        "✅ Encapsulation = hiding the internal state of an object and restricting direct access to it, allowing access only through methods (getters/setters).\n",
        "\n",
        "In Python, encapsulation is achieved by:\n",
        "\n",
        "* Defining attributes as private or protected\n",
        "\n",
        "* Providing public methods to access or modify them\n",
        "\n",
        "them\n",
        "\n",
        "🔍 H**ow do we \"hide\" data in Python?**]\n",
        "\n",
        "Unlike some languages (like Java or C++), Python doesn’t have strict private/protected keywords.\n",
        "\n",
        "Instead, it uses naming conventions:\n",
        "\n",
        "| Modifier  | Syntax       | Meaning                                        |\n",
        "| --------- | ------------ | ---------------------------------------------- |\n",
        "| Public    | `variable`   | Accessible everywhere                          |\n",
        "| Protected | `_variable`  | Should be treated as protected (by convention) |\n",
        "| Private   | `__variable` | Name mangling → makes it harder to access      |\n",
        "\n",
        "\n",
        "  Example:\n",
        "\n",
        "\n"
      ],
      "metadata": {
        "id": "48Wh3kTTNCu9"
      }
    },
    {
      "cell_type": "code",
      "source": [
        "class BankAccount:\n",
        "    def __init__(self, balance):\n",
        "        self.__balance = balance  # Private attribute\n",
        "\n",
        "    def deposit(self, amount):\n",
        "        if amount > 0:\n",
        "            self.__balance += amount\n",
        "\n",
        "    def withdraw(self, amount):\n",
        "        if 0 < amount <= self.__balance:\n",
        "            self.__balance -= amount\n",
        "        else:\n",
        "            print(\"Insufficient funds!\")\n",
        "\n",
        "    def get_balance(self):\n",
        "        return self.__balance\n",
        "\n",
        "account = BankAccount(1000)\n",
        "account.deposit(500)\n",
        "print(account.get_balance())  # ✅ 1500\n",
        "\n",
        "# print(account.__balance)     # ❌ Error: cannot access private attribute\n"
      ],
      "metadata": {
        "colab": {
          "base_uri": "https://localhost:8080/"
        },
        "id": "9dV4OaJ9NuM-",
        "outputId": "8efc3f38-03ea-4c5a-8b8b-5a79b3ee121c"
      },
      "execution_count": null,
      "outputs": [
        {
          "output_type": "stream",
          "name": "stdout",
          "text": [
            "1500\n"
          ]
        }
      ]
    },
    {
      "cell_type": "markdown",
      "source": [
        "✅ __balance is a private attribute\n",
        "✅ We can only access it via methods → get_balance(), deposit(), withdraw()\n",
        "\n"
      ],
      "metadata": {
        "id": "Fm1hqGMDNz3U"
      }
    },
    {
      "cell_type": "markdown",
      "source": [
        "🔑 **Why use encapsulation?**\n",
        "\n",
        "✅ To control how data is accessed or modified\n",
        "✅ To protect sensitive data from external code\n",
        "✅ To prevent unintended changes\n",
        "\n",
        "\n",
        "**✨ Name mangling (behind the scenes):**\n",
        "\n",
        "When you prefix an attribute with __, Python internally changes its name to _ClassName__AttributeName.\n",
        "\n",
        "For example:\n"
      ],
      "metadata": {
        "id": "jfsp-a5NN0zN"
      }
    },
    {
      "cell_type": "code",
      "source": [
        "print(account._BankAccount__balance)  # ✅ Can still access (not recommended)\n"
      ],
      "metadata": {
        "colab": {
          "base_uri": "https://localhost:8080/"
        },
        "id": "pqyhmQmvN-Xc",
        "outputId": "c6b6f884-1959-47ac-f615-6939a49788b8"
      },
      "execution_count": null,
      "outputs": [
        {
          "output_type": "stream",
          "name": "stdout",
          "text": [
            "1500\n"
          ]
        }
      ]
    },
    {
      "cell_type": "markdown",
      "source": [
        "⚠️ → Encapsulation in Python is by convention, not enforced security!"
      ],
      "metadata": {
        "id": "exREsy3COEBN"
      }
    },
    {
      "cell_type": "markdown",
      "source": [
        "🎯 Summary:\n",
        "\n",
        "✅ Encapsulation in Python = using private/protected attributes + public methods to hide data and control access.\n",
        "\n",
        "👉 You can still technically access private data (due to name mangling), but you shouldn't—the idea is “we trust the programmer” in Python."
      ],
      "metadata": {
        "id": "daOvq-o6OGgU"
      }
    },
    {
      "cell_type": "markdown",
      "source": [
        "# **9) What is a constructor in Python+**\n",
        "\n",
        "ans- ✅ A constructor in Python is a special method that automatically runs when an object is created.\n",
        "It is used to initialize (set up) the object’s attributes.\n",
        "\n",
        "👉 The constructor method in Python is called __init__ (double underscore “init” method).\n",
        "\n",
        "You don’t call it manually → Python calls it when you create an object.\n",
        "\n",
        "🎯** Why is a constructor used?**  *italicized text*\n",
        "\n",
        "✅ To initialize the object’s state (attributes) at the moment of creation\n",
        "✅ To prepare the object for use with initial values\n",
        "\n",
        " Basic example:\n",
        "\n",
        "\n"
      ],
      "metadata": {
        "id": "mtf9op4cOLhM"
      }
    },
    {
      "cell_type": "code",
      "source": [
        "class Person:\n",
        "    def __init__(self, name, age):  # Constructor\n",
        "        self.name = name\n",
        "        self.age = age\n",
        "\n",
        "# Create object\n",
        "p1 = Person(\"Alice\", 30)\n",
        "\n",
        "print(p1.name)  # Alice\n",
        "print(p1.age)   # 30\n"
      ],
      "metadata": {
        "colab": {
          "base_uri": "https://localhost:8080/"
        },
        "id": "tyUobykDOscF",
        "outputId": "67eb10a2-3566-4943-a4cc-44987ba34f1b"
      },
      "execution_count": null,
      "outputs": [
        {
          "output_type": "stream",
          "name": "stdout",
          "text": [
            "Alice\n",
            "30\n"
          ]
        }
      ]
    },
    {
      "cell_type": "markdown",
      "source": [
        "✅ When p1 is created, Python automatically calls __init__ and passes \"Alice\" and 30 to it → these values are assigned to the object’s attributes.\n",
        "\n"
      ],
      "metadata": {
        "id": "WgCw1i1JOJq9"
      }
    },
    {
      "cell_type": "markdown",
      "source": [
        "🔍 **Constructor rules:**\n",
        "\n",
        "1)The constructor method must be named __init__\n",
        "\n",
        "2)It must have at least one argument → self (refers to the object itself)\n",
        "\n",
        "3)You can pass extra parameters (like name, age)\n",
        "\n",
        "✨** What happens without a constructor?**\n",
        "\n",
        "If you don’t define an __init__, Python uses a default constructor (does nothing).\n",
        "\n",
        "Example:\n",
        "\n"
      ],
      "metadata": {
        "id": "aM09cwyTOxw9"
      }
    },
    {
      "cell_type": "code",
      "source": [
        "class Empty:\n",
        "    pass\n",
        "\n",
        "e = Empty()  # works fine → no attributes initialized\n"
      ],
      "metadata": {
        "id": "em6ULtxLPCOs"
      },
      "execution_count": null,
      "outputs": []
    },
    {
      "cell_type": "markdown",
      "source": [
        "**Multiple constructors?**\n",
        "\n",
        "Python does not support constructor overloading (like Java or C++).\n",
        "BUT → you can use default values or *args, **kwargs to mimic it.\n",
        "\n",
        "Example:\n"
      ],
      "metadata": {
        "id": "NPRz0x6sPEeV"
      }
    },
    {
      "cell_type": "code",
      "source": [
        "class Person:\n",
        "    def __init__(self, name=\"Unknown\", age=0):\n",
        "        self.name = name\n",
        "        self.age = age\n",
        "\n",
        "p1 = Person(\"John\", 25)\n",
        "p2 = Person()  # uses default values\n"
      ],
      "metadata": {
        "id": "2jZbUbSMPRzV"
      },
      "execution_count": null,
      "outputs": []
    },
    {
      "cell_type": "markdown",
      "source": [
        "🎯 **In short:**\n",
        "\n",
        "👉 A constructor in Python is the __init__ method that initializes a new object’s attributes automatically when created."
      ],
      "metadata": {
        "id": "78NHOWk1PWW9"
      }
    },
    {
      "cell_type": "markdown",
      "source": [
        "# **10) What are class and static methods in Python+**\n",
        "\n",
        "ans - 1️⃣ Class Methods:\n",
        "✅ A class method is a method that:\n",
        "\n",
        "* Belongs to the class itself (not to an instance)\n",
        "\n",
        "* Can access or modify class-level data\n",
        "\n",
        "* Takes cls (the class) as the first parameter (instead of self)\n",
        "\n",
        "* We define a class method using the @classmethod decorator.\n",
        "\n",
        "**💡 Why use class methods?**\n",
        "\n",
        "✅ To access or modify class variables shared across all instances\n",
        "✅ To create factory methods (methods that return a new instance of the class)\n",
        "\n",
        "Example:\n",
        "\n"
      ],
      "metadata": {
        "id": "xdfNGeFxPbkF"
      }
    },
    {
      "cell_type": "code",
      "source": [
        "class Student:\n",
        "    school_name = \"ABC High School\"  # Class variable\n",
        "\n",
        "    def __init__(self, name):\n",
        "        self.name = name\n",
        "\n",
        "    @classmethod\n",
        "    def get_school_name(cls):\n",
        "        return cls.school_name\n",
        "\n",
        "print(Student.get_school_name())  # ✅ Output: ABC High School\n"
      ],
      "metadata": {
        "colab": {
          "base_uri": "https://localhost:8080/"
        },
        "id": "rHmGgrukP9z9",
        "outputId": "a5bdec9d-40a2-4fea-b273-2d5c3be27801"
      },
      "execution_count": null,
      "outputs": [
        {
          "output_type": "stream",
          "name": "stdout",
          "text": [
            "ABC High School\n"
          ]
        }
      ]
    },
    {
      "cell_type": "markdown",
      "source": [
        "✅ Notice we call get_school_name() on the class itself, not an object!"
      ],
      "metadata": {
        "id": "nJxFQG3MQBvn"
      }
    },
    {
      "cell_type": "markdown",
      "source": [
        " **2️⃣ Static Methods:**\n",
        "\n",
        "✅ A static method is a method that:\n",
        "\n",
        "* Does NOT access class (cls) or instance (self) variables\n",
        "\n",
        "* Acts like a regular function, but belongs inside the class’s namespace\n",
        "\n",
        "* Doesn’t take self or cls as the first parameter\n",
        "\n",
        "* We define a static method using the @staticmethod decorator.\n",
        "\n",
        "**Why use static methods?**\n",
        "\n",
        "✅ To group utility/helper functions related to the class\n",
        "\n",
        "✅ When the method logically belongs to the class but doesn’t need access to class or instance data\n",
        "\n",
        "Example:\n",
        "\n"
      ],
      "metadata": {
        "id": "mNcUtNUvQClG"
      }
    },
    {
      "cell_type": "code",
      "source": [
        "class MathUtils:\n",
        "    @staticmethod\n",
        "    def add(a, b):\n",
        "        return a + b\n",
        "\n",
        "print(MathUtils.add(5, 7))  # ✅ Output: 12\n"
      ],
      "metadata": {
        "colab": {
          "base_uri": "https://localhost:8080/"
        },
        "id": "rKRRWIBAQe41",
        "outputId": "5e4748d0-19cd-4fa7-bfe2-3c1500dafabe"
      },
      "execution_count": null,
      "outputs": [
        {
          "output_type": "stream",
          "name": "stdout",
          "text": [
            "12\n"
          ]
        }
      ]
    },
    {
      "cell_type": "markdown",
      "source": [
        "✅ We call add() without creating an object → it acts like a normal function but is kept inside the class."
      ],
      "metadata": {
        "id": "BMRjZ-NiQiPd"
      }
    },
    {
      "cell_type": "markdown",
      "source": [
        "**Key Differences:**\n",
        "\n",
        "| Feature                    | Instance Method | Class Method   | Static Method   |\n",
        "| -------------------------- | --------------- | -------------- | --------------- |\n",
        "| First parameter            | `self`          | `cls`          | none            |\n",
        "| Access instance variables? | ✅               | ❌              | ❌               |\n",
        "| Access class variables?    | ✅               | ✅              | ❌               |\n",
        "| Can be called on class?    | ❌               | ✅              | ✅               |\n",
        "| Use decorator?             | No              | `@classmethod` | `@staticmethod` |\n",
        "\n",
        "\n",
        "✨ Summary in plain words:\n",
        "\n",
        "✅ Instance method → works with object (self) → changes object’s data\n",
        "\n",
        "✅ Class method → works with class (cls) → changes class-level data\n",
        "\n",
        "✅ Static method → independent utility function → doesn’t touch class/object data\n",
        "\n",
        "\n"
      ],
      "metadata": {
        "id": "UfYS8zfMQlV9"
      }
    },
    {
      "cell_type": "markdown",
      "source": [
        "# **11)What is method overloading in Python+**\n",
        "\n",
        "ans - ✅ Method overloading means defining multiple methods with the same name but different numbers or types of parameters.\n",
        "\n",
        "In some languages like Java or C++, you can do this:"
      ],
      "metadata": {
        "id": "KBlTj372Q-BN"
      }
    },
    {
      "cell_type": "code",
      "source": [
        "void show(int a)\n",
        "void show(int a, int b)\n"
      ],
      "metadata": {
        "id": "BGBl9tMKRWfN"
      },
      "execution_count": null,
      "outputs": []
    },
    {
      "cell_type": "markdown",
      "source": [
        "# **Does Python support method overloading?**\n",
        "\n",
        "No, not in the traditional way!\n",
        "In Python, if you define multiple methods with the same name → the last definition overwrites the previous ones.\n",
        "\n",
        "Example:6"
      ],
      "metadata": {
        "id": "m1UUq5szRa8v"
      }
    },
    {
      "cell_type": "code",
      "source": [
        "class Demo:\n",
        "    def show(self, a):\n",
        "        print(\"One argument:\", a)\n",
        "\n",
        "    def show(self, a, b):\n",
        "        print(\"Two arguments:\", a, b)\n",
        "\n",
        "d = Demo()\n",
        "d.show(10, 20)  # ✅ Output: Two arguments: 10 20\n",
        "# d.show(10)    # ❌ TypeError: missing 1 required positional argument\n"
      ],
      "metadata": {
        "colab": {
          "base_uri": "https://localhost:8080/"
        },
        "id": "QjvnP_HcRwPs",
        "outputId": "92ed2039-b31a-4dab-d765-2f05d5062e22"
      },
      "execution_count": null,
      "outputs": [
        {
          "output_type": "stream",
          "name": "stdout",
          "text": [
            "Two arguments: 10 20\n"
          ]
        }
      ]
    },
    {
      "cell_type": "markdown",
      "source": [
        "✅ Only the last show method exists → the first one is overwritten."
      ],
      "metadata": {
        "id": "xJf1MvDFRz0d"
      }
    },
    {
      "cell_type": "markdown",
      "source": [
        "**How to achieve method overloading in Python?**\n",
        "\n",
        "1️⃣ **Using default arguments:**\n"
      ],
      "metadata": {
        "id": "DRTPSsXtR0uF"
      }
    },
    {
      "cell_type": "code",
      "source": [
        "class Demo:\n",
        "    def show(self, a=None, b=None):\n",
        "        if a is not None and b is not None:\n",
        "            print(\"Two arguments:\", a, b)\n",
        "        elif a is not None:\n",
        "            print(\"One argument:\", a)\n",
        "        else:\n",
        "            print(\"No arguments\")\n",
        "\n",
        "d = Demo()\n",
        "d.show()           # Output: No arguments\n",
        "d.show(10)         # Output: One argument: 10\n",
        "d.show(10, 20)     # Output: Two arguments: 10 20\n"
      ],
      "metadata": {
        "colab": {
          "base_uri": "https://localhost:8080/"
        },
        "id": "D80ILFRDR9-U",
        "outputId": "94bafd88-bab6-422b-b551-863256f8c1fa"
      },
      "execution_count": null,
      "outputs": [
        {
          "output_type": "stream",
          "name": "stdout",
          "text": [
            "No arguments\n",
            "One argument: 10\n",
            "Two arguments: 10 20\n"
          ]
        }
      ]
    },
    {
      "cell_type": "markdown",
      "source": [
        "✅ Here → we handle different cases inside the same method."
      ],
      "metadata": {
        "id": "0UzoCJCxSCIN"
      }
    },
    {
      "cell_type": "markdown",
      "source": [
        "# 2️⃣ Using variable-length arguments (*args):\n"
      ],
      "metadata": {
        "id": "B0Kmjkb4SJHF"
      }
    },
    {
      "cell_type": "code",
      "source": [
        "class Demo:\n",
        "    def show(self, *args):\n",
        "        if len(args) == 0:\n",
        "            print(\"No arguments\")\n",
        "        elif len(args) == 1:\n",
        "            print(\"One argument:\", args[0])\n",
        "        else:\n",
        "            print(\"Arguments:\", args)\n",
        "\n",
        "d = Demo()\n",
        "d.show()           # Output: No arguments\n",
        "d.show(10)         # Output: One argument: 10\n",
        "d.show(10, 20, 30) # Output: Arguments: (10, 20, 30)\n"
      ],
      "metadata": {
        "colab": {
          "base_uri": "https://localhost:8080/"
        },
        "id": "olnX25jVSQlH",
        "outputId": "20c3cdbf-eb5b-433a-ccb8-5bc7c9b8e0ca"
      },
      "execution_count": null,
      "outputs": [
        {
          "output_type": "stream",
          "name": "stdout",
          "text": [
            "No arguments\n",
            "One argument: 10\n",
            "Arguments: (10, 20, 30)\n"
          ]
        }
      ]
    },
    {
      "cell_type": "markdown",
      "source": [
        "✅ *args lets you pass any number of positional arguments.\n",
        "\n",
        "\n",
        "\n"
      ],
      "metadata": {
        "id": "J7c6Dt4CST09"
      }
    },
    {
      "cell_type": "markdown",
      "source": [
        "# ** Key takeaway:**\n",
        "\n",
        "👉 Python doesn’t support method overloading like Java/C++.\n",
        "\n",
        "👉 You can achieve similar behavior by using:\n",
        "\n",
        "* default parameter values\n",
        "\n",
        "* *args / **kwargs\n",
        "\n",
        "* type-checking inside the method\n",
        "\n",
        "✅ In plain words:\n",
        "\n",
        "Method overloading in Python = writing a single method that can handle different numbers or types of arguments using default values or *args."
      ],
      "metadata": {
        "id": "YgxhhE7KSdW2"
      }
    },
    {
      "cell_type": "markdown",
      "source": [
        "# **12) What is method overriding in OOP+**\n",
        "\n",
        "ans - Definition:\n",
        "Method overriding occurs when a subclass (child class) provides a specific implementation of a method that is already defined in its superclass (parent class). The method in the child class must have the same name, return type, and parameters as the one in the parent class.\n",
        "\n",
        "In other words, the child class \"overrides\" the parent's behavior to provide its own version.\n",
        "\n",
        " ✅ ***Key Characteristics:***\n",
        "\n",
        " Same method name in parent and child class\n",
        "\n",
        "* Same parameter list (same number and type of parameters)\n",
        "\n",
        "* Same return type (or compatible type in some languages like Java’s covariant return types)\n",
        "\n",
        "* Happens via inheritance (child class inherits from parent)\n",
        "\n",
        "* Decided at runtime → supports polymorphism\n",
        "\n",
        "\n",
        "**📌 Why use method overriding?**\n",
        "\n",
        "To customize or extend the behavior of an inherited method.\n",
        "\n",
        "For example, a general class might define a speak() method, but each subclass can override it to specify how that particular object \"speaks.\"\n",
        "\n",
        "Example ⚗\n",
        "\n"
      ],
      "metadata": {
        "id": "eycsk1XYStkE"
      }
    },
    {
      "cell_type": "code",
      "source": [
        "class Animal:\n",
        "    def speak(self):\n",
        "        print(\"Animal makes a sound\")\n",
        "\n",
        "class Dog(Animal):\n",
        "    def speak(self):\n",
        "        print(\"Dog barks\")\n",
        "\n",
        "# Usage\n",
        "animal = Animal()\n",
        "animal.speak()  # Output: Animal makes a sound\n",
        "\n",
        "dog = Dog()\n",
        "dog.speak()     # Output: Dog barks\n"
      ],
      "metadata": {
        "colab": {
          "base_uri": "https://localhost:8080/"
        },
        "id": "ZCXJXMQ3GgV4",
        "outputId": "59509a68-b71b-44c3-b098-167ebb8022b4"
      },
      "execution_count": null,
      "outputs": [
        {
          "output_type": "stream",
          "name": "stdout",
          "text": [
            "Animal makes a sound\n",
            "Dog barks\n"
          ]
        }
      ]
    },
    {
      "cell_type": "markdown",
      "source": [
        "✅ Here, Dog overrides the speak() method of Animal.\n",
        "\n"
      ],
      "metadata": {
        "id": "ZuNnOHxlGndh"
      }
    },
    {
      "cell_type": "markdown",
      "source": [
        "**Differences from method overloading:**\n",
        "\n",
        "| Aspect      | Method Overriding         | Method Overloading            |\n",
        "| ----------- | ------------------------- | ----------------------------- |\n",
        "| Inheritance | Requires inheritance      | Doesn’t require inheritance   |\n",
        "| Parameters  | Same number & type        | Different number/type         |\n",
        "| Binding     | Runtime (dynamic) binding | Compile-time (static) binding |\n",
        "\n",
        "\n",
        "**In Java:**\n",
        "\n",
        "In Java, you also use @Override annotation for clarity:\n"
      ],
      "metadata": {
        "id": "N7UsyvPmGpxY"
      }
    },
    {
      "cell_type": "code",
      "source": [
        "class Animal {\n",
        "    void speak() {\n",
        "        System.out.println(\"Animal makes a sound\");\n",
        "    }\n",
        "}\n",
        "\n",
        "class Dog extends Animal {\n",
        "    @Override\n",
        "    void speak() {\n",
        "        System.out.println(\"Dog barks\");\n",
        "    }\n",
        "}\n"
      ],
      "metadata": {
        "colab": {
          "base_uri": "https://localhost:8080/",
          "height": 106
        },
        "collapsed": true,
        "id": "ab95-0OHG5PY",
        "outputId": "cab7013b-db75-4f61-e83d-9d283216dfe4"
      },
      "execution_count": null,
      "outputs": [
        {
          "output_type": "error",
          "ename": "SyntaxError",
          "evalue": "invalid syntax (<ipython-input-2-65247e937217>, line 1)",
          "traceback": [
            "\u001b[0;36m  File \u001b[0;32m\"<ipython-input-2-65247e937217>\"\u001b[0;36m, line \u001b[0;32m1\u001b[0m\n\u001b[0;31m    class Animal {\u001b[0m\n\u001b[0m                 ^\u001b[0m\n\u001b[0;31mSyntaxError\u001b[0m\u001b[0;31m:\u001b[0m invalid syntax\n"
          ]
        }
      ]
    },
    {
      "cell_type": "markdown",
      "source": [
        "**✨ When would you override a method?**\n",
        "\n",
        "✅ To provide specialized behavior in a subclass while retaining the same method interface.\n",
        "\n",
        "✅ To implement polymorphism: You can call the overridden method using a parent class reference, but get the child class’s implementation at runtime.\n",
        "\n"
      ],
      "metadata": {
        "id": "2YYiqnnZHGRq"
      }
    },
    {
      "cell_type": "markdown",
      "source": [
        "# **13) What is a property decorator in Python+**\n",
        "\n",
        "ans - The @property decorator in Python allows you to define methods that can be accessed like attributes (without parentheses).\n",
        "\n",
        "✅ It’s a way to encapsulate getter, setter, and deleter behavior for a class attribute, while still letting users access it like a simple variable.\n",
        "\n",
        " **Why use @property?**\n",
        "\n",
        "* To control access to an attribute (e.g., validation, logging)\n",
        "\n",
        "* To compute a value on the fly while exposing it as an attribute\n",
        "\n",
        "* To make an attribute read-only or add setter logic later without changing the interface\n",
        "\n",
        " Simple Example:"
      ],
      "metadata": {
        "id": "gj5ld6BNHJsg"
      }
    },
    {
      "cell_type": "code",
      "source": [
        "class Circle:\n",
        "    def __init__(self, radius):\n",
        "        self._radius = radius  # \"private\" attribute\n",
        "\n",
        "    @property\n",
        "    def radius(self):\n",
        "        return self._radius\n",
        "\n",
        "    @property\n",
        "    def area(self):\n",
        "        return 3.14159 * (self._radius ** 2)\n",
        "\n",
        "# Usage\n",
        "c = Circle(5)\n",
        "print(c.radius)  # 5 (accessed like an attribute)\n",
        "print(c.area)    # 78.53975\n"
      ],
      "metadata": {
        "colab": {
          "base_uri": "https://localhost:8080/"
        },
        "id": "TGzof7bQHfsQ",
        "outputId": "2103cba6-7908-4351-ef0e-111ae498f8fc"
      },
      "execution_count": null,
      "outputs": [
        {
          "output_type": "stream",
          "name": "stdout",
          "text": [
            "5\n",
            "78.53975\n"
          ]
        }
      ]
    },
    {
      "cell_type": "markdown",
      "source": [
        "✅ Notice how area is called like an attribute even though it’s implemented as a method."
      ],
      "metadata": {
        "id": "L2SPxF0jHjPY"
      }
    },
    {
      "cell_type": "markdown",
      "source": [
        " **Adding a setter with @property:**\n",
        "\n",
        "Let’s say we want to be able to change radius, but enforce that it can’t be negative."
      ],
      "metadata": {
        "id": "8GJF4sHzHkCp"
      }
    },
    {
      "cell_type": "code",
      "source": [
        "class Circle:\n",
        "    def __init__(self, radius):\n",
        "        self._radius = radius\n",
        "\n",
        "    @property\n",
        "    def radius(self):\n",
        "        return self._radius\n",
        "\n",
        "    @radius.setter\n",
        "    def radius(self, value):\n",
        "        if value < 0:\n",
        "            raise ValueError(\"Radius cannot be negative\")\n",
        "        self._radius = value\n",
        "\n",
        "c = Circle(5)\n",
        "print(c.radius)  # 5\n",
        "c.radius = 10    # sets radius to 10\n",
        "# c.radius = -3  # raises ValueError\n"
      ],
      "metadata": {
        "colab": {
          "base_uri": "https://localhost:8080/"
        },
        "id": "tiBHbcVjHovR",
        "outputId": "d1bf08b1-5ed5-456e-c0b0-749ef44fd815"
      },
      "execution_count": null,
      "outputs": [
        {
          "output_type": "stream",
          "name": "stdout",
          "text": [
            "5\n"
          ]
        }
      ]
    },
    {
      "cell_type": "markdown",
      "source": [
        "✅ The setter method is linked to the property using @radius.setter (must match the name of the property)."
      ],
      "metadata": {
        "id": "0p36O85fHsVv"
      }
    },
    {
      "cell_type": "markdown",
      "source": [
        "**Without @property:**\n",
        "\n",
        "If we didn’t use @property, you’d have to call get_radius() or set_radius() explicitly, making code less Pythonic."
      ],
      "metadata": {
        "id": "lqJIAHzHHtMX"
      }
    },
    {
      "cell_type": "code",
      "source": [
        "c.get_radius()  # instead of c.radius\n",
        "c.set_radius(10)  # instead of c.radius = 10\n"
      ],
      "metadata": {
        "id": "IQMMkCkMHzG4"
      },
      "execution_count": null,
      "outputs": []
    },
    {
      "cell_type": "markdown",
      "source": [
        "✨ **Key Points:**\n",
        "\n",
        "| Decorator    | Purpose                     |\n",
        "| ------------ | --------------------------- |\n",
        "| `@property`  | Defines the getter          |\n",
        "| `@x.setter`  | Defines the setter for `x`  |\n",
        "| `@x.deleter` | Defines the deleter for `x` |\n",
        "\n",
        "✅ Helps implement encapsulation and data hiding while keeping a clean interface.\n",
        "\n",
        "# ** When to use @property**:\n",
        "\n",
        "Use @property when:\n",
        "\n",
        "* You want computed attributes\n",
        "\n",
        "* You want to add validation while keeping attribute-like access\n",
        "\n",
        "* You want to make an attribute read-only\n",
        "\n",
        "\n"
      ],
      "metadata": {
        "id": "CgDKxTxjH4x4"
      }
    },
    {
      "cell_type": "markdown",
      "source": [
        "# **14) Why is polymorphism important in OOP+**\n",
        "\n",
        "ans-  Definition (quick refresher):\n",
        "Polymorphism = “many forms.”\n",
        "In object-oriented programming (OOP), polymorphism allows objects of different classes to be treated as objects of a common superclass, while each object can respond differently to the same method call.\n",
        "\n",
        "In simple words: same interface, different behavior.\n",
        "\n",
        "✅ **Why is it important? (Key reasons)**\n",
        "\n",
        "1️⃣ Code reusability & flexibility\n",
        "we can write general-purpose code that works with different types of objects.\n",
        "\n",
        "Example: a function can accept any object that implements a method draw(), whether it’s a Circle, Rectangle, or Triangle."
      ],
      "metadata": {
        "id": "htl3VaFBIBpA"
      }
    },
    {
      "cell_type": "code",
      "source": [
        "def render(shape):\n",
        "    shape.draw()\n"
      ],
      "metadata": {
        "id": "JIoYDLiAInEA"
      },
      "execution_count": null,
      "outputs": []
    },
    {
      "cell_type": "markdown",
      "source": [
        "No need to write separate render_circle(), render_rectangle(), etc.\n",
        "\n",
        "2️⃣** Simplifies code maintenance**\n",
        "\n",
        "Changes in specific classes don’t break existing code that uses the common interface.\n",
        "\n",
        "You can extend behavior by adding new classes without changing old code.\n",
        "\n",
        "👉 You can add a Hexagon class later, and render() will still work.\n",
        "\n",
        "3️⃣ **Supports extensibility **\n",
        "\n",
        "You can introduce new types without modifying client code.\n",
        "\n",
        "This aligns with the Open/Closed Principle (open for extension, closed for modification).\n",
        "\n",
        "**4️⃣ Enables dynamic method binding (runtime polymorphism)**\n",
        "\n",
        "At runtime, Python (or Java, C++, etc.) decides which method implementation to call based on the actual object’s type.\n",
        "\n",
        "This makes programs more dynamic and flexible.\n",
        "\n",
        "Example:\n",
        "\n",
        "\n"
      ],
      "metadata": {
        "id": "aX67gRILIovA"
      }
    },
    {
      "cell_type": "code",
      "source": [
        "class Animal:\n",
        "    def speak(self):\n",
        "        pass\n",
        "\n",
        "class Dog(Animal):\n",
        "    def speak(self):\n",
        "        return \"Woof!\"\n",
        "\n",
        "class Cat(Animal):\n",
        "    def speak(self):\n",
        "        return \"Meow!\"\n",
        "\n",
        "def animal_sound(animal):\n",
        "    print(animal.speak())\n",
        "\n",
        "# Using polymorphism\n",
        "dog = Dog()\n",
        "cat = Cat()\n",
        "\n",
        "animal_sound(dog)  # Woof!\n",
        "animal_sound(cat)  # Meow!\n"
      ],
      "metadata": {
        "colab": {
          "base_uri": "https://localhost:8080/"
        },
        "id": "G45DTqclJGIA",
        "outputId": "f703106e-1ba4-46d4-9e7d-97820dd95590"
      },
      "execution_count": null,
      "outputs": [
        {
          "output_type": "stream",
          "name": "stdout",
          "text": [
            "Woof!\n",
            "Meow!\n"
          ]
        }
      ]
    },
    {
      "cell_type": "markdown",
      "source": [
        " messy, harder to maintain, violates open/closed principle\n",
        "\n",
        "# 🎯 I**n real-world applications:**\n",
        "\n",
        "* Polymorphism is crucial in:\n",
        "\n",
        "* GUI frameworks → drawing different widgets with the same draw() method\n",
        "\n",
        "* Game development → different game entities respond to update(), move()\n",
        "\n",
        "* Machine learning pipelines → applying different models with a common predict() interface\n",
        "\n",
        "* API design → allowing users to plug in custom classes without changing core code\n",
        "\n",
        "💥 **In short:**\n",
        "\n",
        "✅ Polymorphism makes OOP more powerful, flexible, extensible, and maintainable.\n",
        "\n",
        "✅ It lets you write code that works on many types of objects through a common interface, enabling dynamic behavior without hardcoding object types."
      ],
      "metadata": {
        "id": "eQCQOVZcI4F_"
      }
    },
    {
      "cell_type": "markdown",
      "source": [
        "# **15) What is an abstract class in Python+**\n",
        "\n",
        "ans- ✅ An abstract class is a class that cannot be instantiated directly and is meant to be inherited by other classes.\n",
        "\n",
        "✅ It defines a blueprint or template for other classes, usually by specifying abstract methods—methods that must be implemented by any subclass.\n",
        "\n",
        "In short: abstract classes enforce a contract for child classes.\n",
        "\n",
        "**Why use abstract classes?**\n",
        "\n",
        "* To ensure that certain methods are implemented in all subclasses\n",
        "\n",
        "* To provide a common interface for related classes\n",
        "\n",
        "* To prevent creating objects from an incomplete class\n",
        "\n",
        "📝 Key features:\n",
        "\n",
        "✔ Has one or more abstract methods (methods declared but not implemented)\n",
        "\n",
        "✔ Cannot be instantiated directly\n",
        "\n",
        "✔ Used for inheritance and polymorphism\n",
        "\n",
        "**How to create an abstract class in Python?**\n",
        "\n",
        "Python uses the abc module (Abstract Base Classes) to create abstract classes.\n",
        "\n",
        "✅ Example:\n",
        "\n"
      ],
      "metadata": {
        "id": "06DVeBc5JYTY"
      }
    },
    {
      "cell_type": "code",
      "source": [
        "from abc import ABC, abstractmethod\n",
        "\n",
        "class Animal(ABC):  # Inheriting from ABC makes it abstract\n",
        "    @abstractmethod\n",
        "    def speak(self):\n",
        "        pass  # No implementation here\n",
        "\n",
        "# Trying to instantiate Animal will raise an error:\n",
        "# animal = Animal()  # ❌ TypeError: Can't instantiate abstract class\n",
        "\n",
        "class Dog(Animal):\n",
        "    def speak(self):\n",
        "        return \"Woof!\"\n",
        "\n",
        "class Cat(Animal):\n",
        "    def speak(self):\n",
        "        return \"Meow!\"\n",
        "\n",
        "# Usage\n",
        "dog = Dog()\n",
        "print(dog.speak())  # Woof!\n",
        "\n",
        "cat = Cat()\n",
        "print(cat.speak())  # Meow!\n"
      ],
      "metadata": {
        "colab": {
          "base_uri": "https://localhost:8080/"
        },
        "id": "akKwzn0QJzLw",
        "outputId": "9b88093c-ae8f-4827-f791-1e65e982be5d"
      },
      "execution_count": null,
      "outputs": [
        {
          "output_type": "stream",
          "name": "stdout",
          "text": [
            "Woof!\n",
            "Meow!\n"
          ]
        }
      ]
    },
    {
      "cell_type": "markdown",
      "source": [
        "✅ Here:\n",
        "\n",
        "* Animal is an abstract class.\n",
        "\n",
        "* speak() is an abstract method → must be implemented in all subclasses.\n",
        "\n",
        "* You cannot create an object of Animal directly.\n",
        "\n",
        "🎯 **Why use it?**\n",
        "\n",
        "Suppose you want to define a Shape class. Every shape should have an area() method, but the formula differs for circles, rectangles, etc.\n",
        "\n",
        "By making Shape an abstract class, you force subclasses to implement area(), avoiding incomplete implementations.\n",
        "\n",
        "🧩 **Abstract class vs Interface (comparison):**\n",
        "\n",
        "In Python, abstract classes can:\n",
        "\n",
        "✅ Have both abstract and concrete methods\n",
        "\n",
        "✅ Have class variables, instance variables, constructor, etc.\n",
        "\n",
        "Whereas in some languages (like Java), an interface is purely abstract with no implementation (though newer versions allow default methods).\n",
        "\n",
        "🚩*** When to use an abstract class:***\n",
        "\n",
        "✅ You want to provide a common API but enforce method implementation\n",
        "\n",
        "✅ You want to share some code (concrete methods) between subclasses\n",
        "\n",
        "✨ **In short:**\n",
        "\n",
        "An abstract class in Python:\n",
        "\n",
        "Defines methods that must be overridden in child classes\n",
        "\n",
        "Cannot be instantiated on its own\n",
        "\n",
        "Helps enforce consistent interfaces across subclasses\n",
        "\n",
        "Created using abc.ABC and @abstractmethod\n",
        "\n",
        "\n"
      ],
      "metadata": {
        "id": "qc80hjxpJ28A"
      }
    },
    {
      "cell_type": "markdown",
      "source": [
        "# **16) What are the advantages of OOP+**\n",
        "\n",
        "ans- 👉 *Advantages of Object-Oriented Programming (OOP):*\n",
        "\n",
        "OOP has many benefits that make it widely used in software development.\n",
        "\n",
        "✅ 1.** Modularity (Code organization & reuse)**\n",
        "\n",
        "* Code is organized into classes (blueprints for objects).\n",
        "\n",
        "* Each class encapsulates data and related functions → self-contained units.\n",
        "\n",
        "* You can reuse classes in different programs (or parts of a program).\n",
        "\n",
        "👉 Example: A User class can be reused across different applications.\n",
        "\n",
        "✅ 2. **Encapsulation (Data hiding & protection)**\n",
        "\n",
        "* Internal object data is protected from outside interference.\n",
        "\n",
        "* Access to object data is controlled via getters/setters or properties.\n",
        "\n",
        "* Keeps code secure and maintains integrity.\n",
        "\n",
        "👉 Changes in object internals won’t break code that uses the object.\n",
        "\n",
        "✅ **3. Inheritance (Code reusability & extension)**\n",
        "\n",
        "* New classes can be created from existing classes → inheriting attributes & methods.\n",
        "\n",
        "* Promotes code reuse: write common functionality once in a parent class.\n",
        "\n",
        "* Allows overriding or extending behavior in child classes.\n",
        "\n",
        "👉 Reduces duplication and speeds up development.\n",
        "\n",
        "✅** 4. Polymorphism (Flexibility & dynamic behavior)**\n",
        "\n",
        "Same interface, different behavior.\n",
        "\n",
        "You can write code that works with different object types interchangeably.\n",
        "\n",
        "👉 Example: You can call draw() on a Circle, Square, or Triangle without knowing the exact type.\n",
        "\n",
        "✅ **5. Abstraction (Simplifies complexity**)\n",
        "\n",
        "Hide complex details and show only the necessary parts to users.\n",
        "\n",
        "Classes expose clear interfaces without revealing inner workings.\n",
        "\n",
        "👉 Example: You use a Car object’s start() method without worrying about the engine’s internal logic.\n",
        "\n",
        "✅ 6.** Easier maintenance & debugging**\n",
        "\n",
        "Code is modular and encapsulated → easier to find and fix bugs.\n",
        "\n",
        "Changing one class is less likely to affect others if designed well.\n",
        "\n",
        "👉 Maintenance costs are lower in large systems.\n",
        "\n",
        "✅ 7.** Real-world modeling**\n",
        "\n",
        "OOP models real-world entities naturally using objects.\n",
        "\n",
        "Classes like Person, Account, Employee directly represent real-world concepts.\n",
        "\n",
        "👉 Makes code more intuitive and relatable.\n",
        "\n",
        "✅ **8. Scalability**\n",
        "\n",
        "OOP designs are easier to extend and scale.\n",
        "\n",
        "New features can be added by creating new classes or extending existing ones without rewriting large portions of code.\n",
        "\n",
        "**In summary:**\n",
        "\n",
        "| Advantage           | Benefit                              |\n",
        "| ------------------- | ------------------------------------ |\n",
        "| Modularity          | Organized, reusable code             |\n",
        "| Encapsulation       | Data protection & control            |\n",
        "| Inheritance         | Code reuse & extension               |\n",
        "| Polymorphism        | Flexible, dynamic interfaces         |\n",
        "| Abstraction         | Hides complexity, simplifies use     |\n",
        "| Easier maintenance  | Isolated changes, fewer side effects |\n",
        "| Real-world modeling | Intuitive design                     |\n",
        "| Scalability         | Easy to grow & extend                |\n",
        "\n",
        "\n",
        "✅ OOP is powerful for large, complex, and evolving software systems because it provides structure, reusability, and flexibility.\n",
        "\n"
      ],
      "metadata": {
        "id": "vJq6FLU1KXTY"
      }
    },
    {
      "cell_type": "markdown",
      "source": [
        "# **17) What is the difference between a class variable and an instance variable+**\n",
        "\n",
        "ans- | Aspect         | Class Variable                      | Instance Variable                   |\n",
        "| -------------- | ----------------------------------- | ----------------------------------- |\n",
        "| Belongs to     | **Class** (shared by all instances) | **Instance** (unique per object)    |\n",
        "| Defined inside | Class (outside methods)             | Inside methods (usually `__init__`) |\n",
        "| Memory         | One copy shared across all objects  | Separate copy for each object       |\n",
        "| Access         | `ClassName.var` or `obj.var`        | `obj.var`                           |\n",
        "\n",
        "✅ 1. **Class Variable:**\n",
        "\n",
        "Shared by all instances of the class.\n",
        "\n",
        "Changing it through the class changes it for everyone.\n"
      ],
      "metadata": {
        "id": "ReIFh-PULhiw"
      }
    },
    {
      "cell_type": "code",
      "source": [
        "class Dog:\n",
        "    species = \"Canis familiaris\"  # class variable\n",
        "\n",
        "    def __init__(self, name):\n",
        "        self.name = name  # instance variable\n",
        "\n",
        "dog1 = Dog(\"Buddy\")\n",
        "dog2 = Dog(\"Max\")\n",
        "\n",
        "print(dog1.species)  # Canis familiaris\n",
        "print(dog2.species)  # Canis familiaris\n",
        "\n",
        "Dog.species = \"Canis lupus\"  # Change class variable\n",
        "\n",
        "print(dog1.species)  # Canis lupus\n",
        "print(dog2.species)  # Canis lupus\n"
      ],
      "metadata": {
        "colab": {
          "base_uri": "https://localhost:8080/"
        },
        "id": "X0IVuciKLyQI",
        "outputId": "8356a4f7-bbc7-4abf-9153-b8f127aac0cb"
      },
      "execution_count": null,
      "outputs": [
        {
          "output_type": "stream",
          "name": "stdout",
          "text": [
            "Canis familiaris\n",
            "Canis familiaris\n",
            "Canis lupus\n",
            "Canis lupus\n"
          ]
        }
      ]
    },
    {
      "cell_type": "markdown",
      "source": [
        "✅ Both dog1 and dog2 see the updated class variable.\n",
        "\n",
        "✅** 2. Instance Variable**:\n",
        "\n",
        "Unique to each object (instance).\n",
        "\n",
        "Defined with self. inside a method (usually __init__)."
      ],
      "metadata": {
        "id": "SL4rRa1XL0fq"
      }
    },
    {
      "cell_type": "code",
      "source": [
        "print(dog1.name)  # Buddy\n",
        "print(dog2.name)  # Max\n",
        "\n",
        "dog1.name = \"Charlie\"  # Change instance variable\n",
        "\n",
        "print(dog1.name)  # Charlie\n",
        "print(dog2.name)  # Max (unchanged)\n"
      ],
      "metadata": {
        "colab": {
          "base_uri": "https://localhost:8080/"
        },
        "id": "QN-qfVh2L6C4",
        "outputId": "3842bbb4-3388-4a08-a766-70b3a1908634"
      },
      "execution_count": null,
      "outputs": [
        {
          "output_type": "stream",
          "name": "stdout",
          "text": [
            "Buddy\n",
            "Max\n",
            "Charlie\n",
            "Max\n"
          ]
        }
      ]
    },
    {
      "cell_type": "markdown",
      "source": [
        "✅ Each instance maintains its own copy of name.\n",
        "\n",
        "\n",
        "🎯 **Key Differences:**\n",
        "\n",
        "| Feature               | Class Variable                | Instance Variable             |\n",
        "| --------------------- | ----------------------------- | ----------------------------- |\n",
        "| Shared across objects | ✅ Yes                         | ❌ No (unique per object)      |\n",
        "| Defined               | Inside class, outside methods | Inside methods (with `self.`) |\n",
        "| Modified by           | Class name or instance        | Instance only                 |\n",
        "\n",
        "\n",
        "💡** When to use which**?\n",
        "\n",
        "✅ Use class variable → when the data is common to all objects (e.g., tax rate, company name, species).\n",
        "\n",
        "✅ Use instance variable → when each object needs its own value (e.g., name, age, balance).\n",
        "\n",
        " Example:\n"
      ],
      "metadata": {
        "id": "EsXSOl9WL9lP"
      }
    },
    {
      "cell_type": "code",
      "source": [
        "class Employee:\n",
        "    company = \"TechCorp\"  # class variable\n",
        "\n",
        "    def __init__(self, name, salary):\n",
        "        self.name = name    # instance variable\n",
        "        self.salary = salary  # instance variable\n",
        "\n",
        "e1 = Employee(\"Alice\", 50000)\n",
        "e2 = Employee(\"Bob\", 60000)\n",
        "\n",
        "print(e1.company)  # TechCorp\n",
        "print(e2.company)  # TechCorp\n",
        "\n",
        "print(e1.name)     # Alice\n",
        "print(e2.name)     # Bob\n"
      ],
      "metadata": {
        "colab": {
          "base_uri": "https://localhost:8080/"
        },
        "id": "5ow_Waq8MNkY",
        "outputId": "fe9fa71c-3c6d-49ce-adeb-5ac01e8a82de"
      },
      "execution_count": null,
      "outputs": [
        {
          "output_type": "stream",
          "name": "stdout",
          "text": [
            "TechCorp\n",
            "TechCorp\n",
            "Alice\n",
            "Bob\n"
          ]
        }
      ]
    },
    {
      "cell_type": "markdown",
      "source": [
        "✅ Both employees share company but have different name and salary.\n",
        "\n",
        "🚩 **Important**:\n",
        "\n",
        "If you assign to self.species (or any class variable) inside an instance, it creates an instance variable shadowing the class variable:\n"
      ],
      "metadata": {
        "id": "-T_oDl8vMOuP"
      }
    },
    {
      "cell_type": "code",
      "source": [
        "dog1.species = \"Different species\"  # creates instance variable\n",
        "print(dog1.species)  # Different species\n",
        "print(dog2.species)  # Canis lupus (still from class variable)\n"
      ],
      "metadata": {
        "colab": {
          "base_uri": "https://localhost:8080/"
        },
        "id": "TfJaO-zeMVTA",
        "outputId": "573c9af0-9899-4676-f036-67e84f821fad"
      },
      "execution_count": null,
      "outputs": [
        {
          "output_type": "stream",
          "name": "stdout",
          "text": [
            "Different species\n",
            "Canis lupus\n"
          ]
        }
      ]
    },
    {
      "cell_type": "code",
      "source": [
        "dog1.species = \"Different species\"  # creates instance variable\n",
        "print(dog1.species)  # Different species\n",
        "print(dog2.species)  # Canis lupus (still from class variable)\n"
      ],
      "metadata": {
        "colab": {
          "base_uri": "https://localhost:8080/"
        },
        "id": "lI8buLiQMYyj",
        "outputId": "cf0bb085-f6a4-4eca-dcec-153a577cf354"
      },
      "execution_count": null,
      "outputs": [
        {
          "output_type": "stream",
          "name": "stdout",
          "text": [
            "Different species\n",
            "Canis lupus\n"
          ]
        }
      ]
    },
    {
      "cell_type": "markdown",
      "source": [
        "✨** In summary:**\n",
        "\n",
        "✅ Class variable → shared by all instances\n",
        "\n",
        "✅ Instance variable → unique per object"
      ],
      "metadata": {
        "id": "wH7v6KQxMaDQ"
      }
    },
    {
      "cell_type": "markdown",
      "source": [
        "# **18) What is multiple inheritance in Python+**\n",
        "\n",
        "ans- ✅ Multiple inheritance means a class can inherit from more than one parent class at the same time.\n",
        "In other words, a child class inherits attributes and methods from multiple base classes.\n",
        "\n",
        "👉 Unlike some languages (like Java, which avoids multiple inheritance for classes), Python fully supports multiple inheritance.\n",
        "\n",
        "Basic Example:\n"
      ],
      "metadata": {
        "id": "QOmh3d2jMeMW"
      }
    },
    {
      "cell_type": "code",
      "source": [
        "class Father:\n",
        "    def skills(self):\n",
        "        print(\"Gardening, Programming\")\n",
        "\n",
        "class Mother:\n",
        "    def skills(self):\n",
        "        print(\"Cooking, Art\")\n",
        "\n",
        "class Child(Father, Mother):\n",
        "    pass\n",
        "\n",
        "c = Child()\n",
        "c.skills()  # Output: Gardening, Programming  (inherits Father's skills() first)\n"
      ],
      "metadata": {
        "colab": {
          "base_uri": "https://localhost:8080/"
        },
        "id": "GYGPTyCzMwAA",
        "outputId": "42e107a2-13f0-483d-b763-e0a28193b498"
      },
      "execution_count": null,
      "outputs": [
        {
          "output_type": "stream",
          "name": "stdout",
          "text": [
            "Gardening, Programming\n"
          ]
        }
      ]
    },
    {
      "cell_type": "markdown",
      "source": [
        "✅ Here, Child inherits from both Father and Mother.\n",
        "\n",
        "👉 If both parents define a method with the same name, Python follows the Method Resolution Order (MRO) → in this case, it uses Father.skills() first.\n",
        "\n",
        "🎯 **Key points about multiple inheritance:**\n",
        "\n",
        "| Feature                                            | Description             |\n",
        "| -------------------------------------------------- | ----------------------- |\n",
        "| Inherits from multiple classes                     | ✅ Yes                   |\n",
        "| Possible method name conflicts                     | ✅ Yes → resolved by MRO |\n",
        "| Supports code reuse across multiple parent classes | ✅ Yes                   |\n",
        "\n",
        "\n",
        "📝** Why use multiple inheritance?**\n",
        "\n",
        "✅ To combine features from different classes into one\n",
        "\n",
        "✅ To avoid duplication of code across classes\n",
        "\n",
        "✅ To build complex objects with behaviors from different sources\n",
        "\n",
        " **Example with different methods:**\n",
        "\n"
      ],
      "metadata": {
        "id": "___XbTa6M0c4"
      }
    },
    {
      "cell_type": "code",
      "source": [
        "class Flyer:\n",
        "    def fly(self):\n",
        "        print(\"Can fly\")\n",
        "\n",
        "class Swimmer:\n",
        "    def swim(self):\n",
        "        print(\"Can swim\")\n",
        "\n",
        "class Duck(Flyer, Swimmer):\n",
        "    pass\n",
        "\n",
        "d = Duck()\n",
        "d.fly()   # Can fly\n",
        "d.swim()  # Can swim\n"
      ],
      "metadata": {
        "colab": {
          "base_uri": "https://localhost:8080/"
        },
        "id": "78EXc726NErY",
        "outputId": "885ba80c-abad-401a-ae53-b684d8b4f553"
      },
      "execution_count": null,
      "outputs": [
        {
          "output_type": "stream",
          "name": "stdout",
          "text": [
            "Can fly\n",
            "Can swim\n"
          ]
        }
      ]
    },
    {
      "cell_type": "markdown",
      "source": [
        "✅ Duck inherits both fly() and swim() from different parents.\n",
        "\n",
        "🏗️ **What if methods have the same name?**\n",
        "\n",
        " → MRO (Method Resolution Order)\n",
        "Python resolves method conflicts by looking at the left-to-right order of parent classes in the child class definition.\n",
        "\n"
      ],
      "metadata": {
        "id": "30DiUiErNG-p"
      }
    },
    {
      "cell_type": "code",
      "source": [
        "class A:\n",
        "    def greet(self):\n",
        "        print(\"Hello from A\")\n",
        "\n",
        "class B:\n",
        "    def greet(self):\n",
        "        print(\"Hello from B\")\n",
        "\n",
        "class C(A, B):  # A listed before B\n",
        "    pass\n",
        "\n",
        "c = C()\n",
        "c.greet()  # Output: Hello from A\n"
      ],
      "metadata": {
        "colab": {
          "base_uri": "https://localhost:8080/"
        },
        "id": "_dZzQJIDNNk3",
        "outputId": "863573fc-9bf5-4dbd-efc6-e5f60227fe75"
      },
      "execution_count": null,
      "outputs": [
        {
          "output_type": "stream",
          "name": "stdout",
          "text": [
            "Hello from A\n"
          ]
        }
      ]
    },
    {
      "cell_type": "markdown",
      "source": [
        "✅ Since A is listed first → its greet() is called."
      ],
      "metadata": {
        "id": "5uoVSNjdNR7Q"
      }
    },
    {
      "cell_type": "code",
      "source": [
        "print(C.__mro__)\n",
        "# (<class '__main__.C'>, <class '__main__.A'>, <class '__main__.B'>, <class 'object'>)\n"
      ],
      "metadata": {
        "id": "Z5BnfQe8NStY"
      },
      "execution_count": null,
      "outputs": []
    },
    {
      "cell_type": "markdown",
      "source": [
        "🚩 **Potential issues with multiple inheritance:**\n",
        "\n",
        "Diamond problem → occurs if two parent classes inherit from a common base class, leading to ambiguity about which method to use.\n",
        "\n",
        "Python solves this using C3 linearization (MRO algorithm).\n",
        "\n",
        "** Diamond problem example:**"
      ],
      "metadata": {
        "id": "WFqu5ZtJNVFg"
      }
    },
    {
      "cell_type": "code",
      "source": [
        "class A:\n",
        "    def show(self):\n",
        "        print(\"A\")\n",
        "\n",
        "class B(A):\n",
        "    def show(self):\n",
        "        print(\"B\")\n",
        "\n",
        "class C(A):\n",
        "    def show(self):\n",
        "        print(\"C\")\n",
        "\n",
        "class D(B, C):\n",
        "    pass\n",
        "\n",
        "d = D()\n",
        "d.show()  # Output: B\n"
      ],
      "metadata": {
        "colab": {
          "base_uri": "https://localhost:8080/"
        },
        "id": "ZsswaKZBNdT_",
        "outputId": "8710b066-f1d8-4738-aa50-e593e557a754"
      },
      "execution_count": null,
      "outputs": [
        {
          "output_type": "stream",
          "name": "stdout",
          "text": [
            "B\n"
          ]
        }
      ]
    },
    {
      "cell_type": "markdown",
      "source": [
        "✅ MRO → D → B → C → A → object\n",
        "\n",
        "Python searches in order: D → B → C → A, so B.show() is called.\n",
        "\n",
        "\n",
        "✨ **In summary:**\n",
        "\n",
        "✅ Multiple inheritance = a class inherits from multiple parent classes\n",
        "\n",
        "✅ Allows combining functionality from multiple sources\n",
        "\n",
        "✅ Python resolves method conflicts using Method Resolution Order (MRO)\n",
        "\n",
        "✅ Powerful but should be used carefully to avoid complexity\n"
      ],
      "metadata": {
        "id": "EeZQvl3ONfMA"
      }
    },
    {
      "cell_type": "markdown",
      "source": [
        "# **19) Explain the purpose of ‘’__str__’ and ‘__repr__’ ‘ methods in PythonH**\n",
        "\n",
        "ans - 👉 What is the purpose of __str__ and __repr__ methods in Python? **bold text**\n",
        "\n",
        "In Python, both __str__ and __repr__ are special methods (also called dunder methods) that control how an object is represented as a string.\n",
        "\n",
        "They are automatically called when you use certain functions (like print() or repr()) or operations.\n",
        "\n",
        "📝 **1️⃣ __str__:** → user-friendly string representation\n",
        "Defines what should be displayed when you print the object or use str(obj).\n",
        "\n",
        "Intended for readable, nicely formatted output for end-users.\n",
        "\n",
        "✅ Example:"
      ],
      "metadata": {
        "id": "R8jObAh2Nl9H"
      }
    },
    {
      "cell_type": "code",
      "source": [
        "class Person:\n",
        "    def __init__(self, name, age):\n",
        "        self.name = name\n",
        "        self.age = age\n",
        "\n",
        "    def __str__(self):\n",
        "        return f\"Person(name={self.name}, age={self.age})\"\n",
        "\n",
        "p = Person(\"Alice\", 30)\n",
        "print(p)   # Output: Person(name=Alice, age=30)\n"
      ],
      "metadata": {
        "colab": {
          "base_uri": "https://localhost:8080/"
        },
        "id": "9abxRxk7N9vY",
        "outputId": "7527e92d-c753-4d2f-cf7d-a6e2591aa64e"
      },
      "execution_count": null,
      "outputs": [
        {
          "output_type": "stream",
          "name": "stdout",
          "text": [
            "Person(name=Alice, age=30)\n"
          ]
        }
      ]
    },
    {
      "cell_type": "markdown",
      "source": [
        "👉 Without __str__, print(p) would show something like <__main__.Person object at 0x000001> (not useful).\n",
        "\n",
        "📝 **2️⃣ __repr__:** → developer-friendly (unambiguous) representation\n",
        "Defines what should be displayed when you use repr(obj) or just type the object in the interpreter.\n",
        "\n",
        "Should return a string that could be used to recreate the object (when possible).\n",
        "\n",
        "Used for debugging and logging → more technical.\n",
        "\n",
        "✅ Example:"
      ],
      "metadata": {
        "id": "1s2yUTA5OAKH"
      }
    },
    {
      "cell_type": "code",
      "source": [
        "class Person:\n",
        "    def __init__(self, name, age):\n",
        "        self.name = name\n",
        "        self.age = age\n",
        "\n",
        "    def __repr__(self):\n",
        "        return f\"Person('{self.name}', {self.age})\"\n",
        "\n",
        "p = Person(\"Alice\", 30)\n",
        "print(repr(p))   # Output: Person('Alice', 30)\n"
      ],
      "metadata": {
        "colab": {
          "base_uri": "https://localhost:8080/"
        },
        "id": "b08qCbT9OI_o",
        "outputId": "44d98d8c-7a8e-4d4e-8132-8f3817539489"
      },
      "execution_count": null,
      "outputs": [
        {
          "output_type": "stream",
          "name": "stdout",
          "text": [
            "Person('Alice', 30)\n"
          ]
        }
      ]
    },
    {
      "cell_type": "markdown",
      "source": [
        "**🎯 Key differences:**\n",
        "\n",
        "| Feature      | `__str__`                                        | `__repr__`                |\n",
        "| ------------ | ------------------------------------------------ | ------------------------- |\n",
        "| Purpose      | Readable string for users                        | Debugging info for devs   |\n",
        "| Called by    | `str(obj)`, `print(obj)`                         | `repr(obj)`, interpreter  |\n",
        "| Output style | Nicely formatted                                 | Unambiguous, recreateable |\n",
        "| Fallback     | If `__str__` is missing → fallback to `__repr__` | No fallback               |\n",
        "\n",
        "🧩 **If both are defined:**\n",
        "\n"
      ],
      "metadata": {
        "id": "46atTLKpONJY"
      }
    },
    {
      "cell_type": "code",
      "source": [
        "p = Person(\"Alice\", 30)\n",
        "print(p)       # calls __str__()\n",
        "print(str(p))  # calls __str__()\n",
        "print(repr(p)) # calls __repr__()\n",
        "p              # calls __repr__ in interactive shell\n"
      ],
      "metadata": {
        "colab": {
          "base_uri": "https://localhost:8080/"
        },
        "id": "vgJ4S6oqOYS4",
        "outputId": "f099e5f7-d758-4532-8b00-651534f2911a"
      },
      "execution_count": null,
      "outputs": [
        {
          "output_type": "stream",
          "name": "stdout",
          "text": [
            "Person('Alice', 30)\n",
            "Person('Alice', 30)\n",
            "Person('Alice', 30)\n"
          ]
        },
        {
          "output_type": "execute_result",
          "data": {
            "text/plain": [
              "Person('Alice', 30)"
            ]
          },
          "metadata": {},
          "execution_count": 21
        }
      ]
    },
    {
      "cell_type": "markdown",
      "source": [
        "✅ print() → calls __str__\n",
        "\n",
        "✅ interactive console → calls __repr__\n",
        "\n",
        "📝 **If only __repr__ is defined:**\n",
        "\n",
        "__str__ automatically falls back to __repr__.\n",
        "\n",
        "🚩 **When should you define both?**\n",
        "\n",
        "✅ Use __str__ for users (pretty printing)\n",
        "\n",
        "✅ Use __repr__ for developers (debugging/logging)\n",
        "\n",
        "If you want both to behave the same:"
      ],
      "metadata": {
        "id": "fjzqxo0cObdA"
      }
    },
    {
      "cell_type": "code",
      "source": [
        "__str__ = __repr__\n"
      ],
      "metadata": {
        "id": "CDxdTRxSOj9g"
      },
      "execution_count": null,
      "outputs": []
    },
    {
      "cell_type": "markdown",
      "source": [
        "✨ **In short:**\n",
        "\n",
        "✅ __str__: human-readable → for users\n",
        "\n",
        "✅ __repr__: unambiguous, developer-focused → for debugging/logging\n",
        "\n",
        "Both methods make objects more meaningful and useful when printed or inspected!"
      ],
      "metadata": {
        "id": "-PKLVTjCOm6Q"
      }
    },
    {
      "cell_type": "markdown",
      "source": [
        "# **What is the significance of the ‘super()’ function in Python+**\n",
        "\n",
        "ans- 👉 **What is the significance of super() in Python?**\n",
        "\n",
        "✅ The super() function is used to call a method from a parent (super) class inside a child (sub) class.\n",
        "It allows a child class to access methods or constructors of its parent class without explicitly naming the parent class.\n",
        "\n",
        "**Key purposes**:\n",
        "\n",
        "1) Reuse parent class methods without rewriting them.\n",
        "\n",
        "2) Ensure that the parent class’s __init__ or other methods are properly called.\n",
        "\n",
        "3) Supports multiple inheritance → follows Python’s Method Resolution Order (MRO)\n",
        "\n",
        "📝 **Why use super() instead of ParentClass.method()**?\n",
        "\n",
        "✅ Works even if you change the parent class name → no need to update code everywhere.\n",
        "\n",
        "✅ Works properly with multiple inheritance → follows MRO to find the next method to call.\n",
        "\n",
        "\n"
      ],
      "metadata": {
        "id": "arlnQ6RLOpUQ"
      }
    },
    {
      "cell_type": "code",
      "source": [
        "class Animal:\n",
        "    def __init__(self, name):\n",
        "        self.name = name\n",
        "\n",
        "class Dog(Animal):\n",
        "    def __init__(self, name, breed):\n",
        "        super().__init__(name)  # calls Animal's __init__\n",
        "        self.breed = breed\n",
        "\n",
        "d = Dog(\"Buddy\", \"Golden Retriever\")\n",
        "print(d.name)   # Buddy\n",
        "print(d.breed)  # Golden Retriever\n"
      ],
      "metadata": {
        "colab": {
          "base_uri": "https://localhost:8080/"
        },
        "id": "zxz6HSOrPvOw",
        "outputId": "8f4152fe-61aa-4520-d864-30071202e5d8"
      },
      "execution_count": null,
      "outputs": [
        {
          "output_type": "stream",
          "name": "stdout",
          "text": [
            "Buddy\n",
            "Golden Retriever\n"
          ]
        }
      ]
    },
    {
      "cell_type": "markdown",
      "source": [
        "✅ Here, super().__init__(name) calls the constructor of Animal to initialize name, instead of rewriting it.\n",
        "\n",
        "**Example 2: overriding a method and calling parent’s version:**\n",
        "\n"
      ],
      "metadata": {
        "id": "IKDuau1HPzUw"
      }
    },
    {
      "cell_type": "code",
      "source": [
        "class Person:\n",
        "    def greet(self):\n",
        "        print(\"Hello!\")\n",
        "\n",
        "class Student(Person):\n",
        "    def greet(self):\n",
        "        super().greet()  # call parent greet()\n",
        "        print(\"I'm a student.\")\n",
        "\n",
        "s = Student()\n",
        "s.greet()\n"
      ],
      "metadata": {
        "colab": {
          "base_uri": "https://localhost:8080/"
        },
        "id": "mn6Rpo1xQicP",
        "outputId": "dfbbb00e-2dde-4089-a9ec-a92e415ba8d8"
      },
      "execution_count": null,
      "outputs": [
        {
          "output_type": "stream",
          "name": "stdout",
          "text": [
            "Hello!\n",
            "I'm a student.\n"
          ]
        }
      ]
    },
    {
      "cell_type": "markdown",
      "source": [
        "✅ super().greet() → calls Person's greet() before adding more behavior."
      ],
      "metadata": {
        "id": "HerpgXRZTUyQ"
      }
    },
    {
      "cell_type": "markdown",
      "source": [
        "# ** Why is super() useful in multiple inheritance?**\n",
        "\n"
      ],
      "metadata": {
        "id": "in0C0VvdTW6Y"
      }
    },
    {
      "cell_type": "code",
      "source": [
        "class A:\n",
        "    def show(self):\n",
        "        print(\"A\")\n",
        "\n",
        "class B(A):\n",
        "    def show(self):\n",
        "        super().show()\n",
        "        print(\"B\")\n",
        "\n",
        "class C(A):\n",
        "    def show(self):\n",
        "        super().show()\n",
        "        print(\"C\")\n",
        "\n",
        "class D(B, C):\n",
        "    def show(self):\n",
        "        super().show()\n",
        "        print(\"D\")\n",
        "\n",
        "d = D()\n",
        "d.show()\n"
      ],
      "metadata": {
        "colab": {
          "base_uri": "https://localhost:8080/"
        },
        "id": "-JMycWHlTndf",
        "outputId": "86c4063d-06fd-469c-92e2-4458adaccafb"
      },
      "execution_count": null,
      "outputs": [
        {
          "output_type": "stream",
          "name": "stdout",
          "text": [
            "A\n",
            "C\n",
            "B\n",
            "D\n"
          ]
        }
      ]
    },
    {
      "cell_type": "markdown",
      "source": [
        "👉 super() follows MRO (Method Resolution Order) → automatically decides the order of method calls.\n",
        "\n",
        "Check MRO:"
      ],
      "metadata": {
        "id": "EEs3HSSSTtgY"
      }
    },
    {
      "cell_type": "code",
      "source": [
        "print(D.__mro__)\n"
      ],
      "metadata": {
        "colab": {
          "base_uri": "https://localhost:8080/"
        },
        "id": "ooT5GJsxTvtw",
        "outputId": "23eb75f6-9bb7-41ea-c2d4-1613c0ed8c15"
      },
      "execution_count": null,
      "outputs": [
        {
          "output_type": "stream",
          "name": "stdout",
          "text": [
            "(<class '__main__.D'>, <class '__main__.B'>, <class '__main__.C'>, <class '__main__.A'>, <class 'object'>)\n"
          ]
        }
      ]
    },
    {
      "cell_type": "markdown",
      "source": [
        "**✨ In summary:**\n",
        "\n",
        "✅ super() allows:\n",
        "\n",
        "Calling parent class methods/constructors\n",
        "\n",
        "Writing cleaner, more maintainable code (no hardcoded parent class names)\n",
        "\n",
        "Supporting multiple inheritance resolution automatically (follows MRO)"
      ],
      "metadata": {
        "id": "ps1nKJ8gTzSo"
      }
    },
    {
      "cell_type": "markdown",
      "source": [
        "# **21)  What is the significance of the __del__ method in Python+**\n",
        "\n",
        "ans - 👉 **What is the significance of the __del__ method in Python?**\n",
        "\n",
        "✅ The __del__ method is a special method (also called destructor) in Python.\n",
        "It is called automatically when an object is about to be destroyed (i.e., when it’s garbage collected).\n",
        "\n",
        "You can use __del__ to define cleanup actions when an object is no longer needed.\n",
        "\n",
        "🎯 **Main purpose of __del__:**\n",
        "\n",
        "To release external resources (like files, network connections, database connections) before an object is removed from memory.\n",
        "\n",
        "Acts as a destructor (similar to destructors in C++ or Java).\n",
        "\n",
        "Basic example:"
      ],
      "metadata": {
        "id": "C5wgXRI9T5A4"
      }
    },
    {
      "cell_type": "code",
      "source": [
        "class FileHandler:\n",
        "    def __init__(self, filename):\n",
        "        self.file = open(filename, 'w')\n",
        "        print(f\"Opened file {filename}\")\n",
        "\n",
        "    def __del__(self):\n",
        "        self.file.close()\n",
        "        print(f\"Closed file {self.file.name}\")\n",
        "\n",
        "handler = FileHandler(\"test.txt\")\n",
        "# When handler object is deleted or goes out of scope, __del__ is called\n"
      ],
      "metadata": {
        "colab": {
          "base_uri": "https://localhost:8080/"
        },
        "id": "K9E5tUA6VPNo",
        "outputId": "dc75c238-ca95-4cf5-8ae6-d9a8cb0e35c0"
      },
      "execution_count": null,
      "outputs": [
        {
          "output_type": "stream",
          "name": "stdout",
          "text": [
            "Opened file test.txt\n"
          ]
        }
      ]
    },
    {
      "cell_type": "markdown",
      "source": [
        "✅ When handler is deleted or the program ends, __del__ automatically closes the file.\n",
        "\n",
        "🚩 **Important notes about __del__:**\n",
        "\n",
        "Python uses garbage collection → you can’t predict exactly when __del__ will be called.\n",
        "\n",
        "If your program ends, the destructor may not run if objects are still referenced.\n",
        "\n",
        "You should not depend on __del__ for critical cleanup → use with statements or try...finally for guaranteed cleanup.\n",
        "\n",
        "📝** When is __del__ called?**\n",
        "\n",
        "✅ Automatically called when:\n",
        "\n",
        "The object’s reference count drops to zero.\n",
        "\n",
        "OR when the interpreter exits (if not circularly referenced).\n",
        "\n",
        "\n",
        "\n"
      ],
      "metadata": {
        "id": "J6NtvDWIVTJ4"
      }
    },
    {
      "cell_type": "code",
      "source": [
        "obj = FileHandler(\"myfile.txt\")\n",
        "del obj  # explicitly delete → calls __del__()\n"
      ],
      "metadata": {
        "colab": {
          "base_uri": "https://localhost:8080/"
        },
        "id": "P08JgcLvVhmf",
        "outputId": "a2610900-d11d-4be7-f184-a5af5892b950"
      },
      "execution_count": null,
      "outputs": [
        {
          "output_type": "stream",
          "name": "stdout",
          "text": [
            "Opened file myfile.txt\n",
            "Closed file myfile.txt\n"
          ]
        }
      ]
    },
    {
      "cell_type": "markdown",
      "source": [
        "⚠️ **When NOT to use __del__:**\n",
        "\n",
        "Avoid using it for critical cleanup logic → better alternatives like context managers (with).\n",
        "\n",
        "Circular references may prevent __del__ from being called.\n",
        "\n",
        "**Example with logging cleanup:**\n",
        "\n",
        "\n"
      ],
      "metadata": {
        "id": "rM_osOleVmtI"
      }
    },
    {
      "cell_type": "code",
      "source": [
        "class Logger:\n",
        "    def __init__(self, name):\n",
        "        self.name = name\n",
        "        print(f\"{self.name} started\")\n",
        "\n",
        "    def __del__(self):\n",
        "        print(f\"{self.name} shutting down\")\n",
        "\n",
        "log = Logger(\"AppLogger\")\n",
        "del log  # triggers __del__\n"
      ],
      "metadata": {
        "colab": {
          "base_uri": "https://localhost:8080/"
        },
        "id": "j8gvXAmJVyP4",
        "outputId": "5b122ea7-e6db-475c-dd00-5e9fc3d0c3b5"
      },
      "execution_count": null,
      "outputs": [
        {
          "output_type": "stream",
          "name": "stdout",
          "text": [
            "AppLogger started\n",
            "AppLogger shutting down\n"
          ]
        }
      ]
    },
    {
      "cell_type": "markdown",
      "source": [
        "**✨ In summary**:\n",
        "\n",
        "| Feature     | Description                                              |\n",
        "| ----------- | -------------------------------------------------------- |\n",
        "| What it is  | Destructor method (`__del__`)                            |\n",
        "| When called | When object is garbage collected                         |\n",
        "| Purpose     | Cleanup resources                                        |\n",
        "| Limitation  | Timing is unpredictable; use `with` for critical cleanup |\n",
        "\n",
        "✅ Use __del__ for non-critical cleanup or logging object deletion.\n",
        "\n",
        "For file/database/network connections → prefer with statement or context managers for better reliability.\n"
      ],
      "metadata": {
        "id": "m16ds0FwV1DB"
      }
    },
    {
      "cell_type": "markdown",
      "source": [
        "# **22) What is the difference between @staticmethod and @classmethod in Python+**\n",
        "\n",
        "ans- 👉 Difference between @staticmethod and @classmethod in Python\n",
        "Both are decorators used to define methods inside a class, but they behave differently.\n",
        "| Feature                   | `@staticmethod`                         | `@classmethod`                     |\n",
        "| ------------------------- | --------------------------------------- | ---------------------------------- |\n",
        "| First argument            | None (no automatic first argument)      | `cls` (the class itself)           |\n",
        "| Bound to                  | Class (but no access to class/instance) | Class (access to class)            |\n",
        "| Can access class vars?    | ❌ No                                    | ✅ Yes                              |\n",
        "| Can access instance vars? | ❌ No                                    | ❌ No                               |\n",
        "| Called using              | ClassName.method() or obj.method()      | ClassName.method() or obj.method() |\n",
        "\n",
        "🎯 1️⃣** @staticmethod** → method that belongs to the class but doesn’t need access to class or instance\n",
        "\n",
        "✅ Behaves like a plain function inside a class → doesn't need self or cls.\n",
        "\n",
        "✅ Used for utility/helper functions that logically belong to the class but don’t need class/instance data."
      ],
      "metadata": {
        "id": "zcq1WKcBV8rv"
      }
    },
    {
      "cell_type": "code",
      "source": [
        "class MathUtils:\n",
        "    @staticmethod\n",
        "    def add(a, b):\n",
        "        return a + b\n",
        "\n",
        "print(MathUtils.add(3, 5))  # Output: 8\n"
      ],
      "metadata": {
        "colab": {
          "base_uri": "https://localhost:8080/"
        },
        "id": "MEyth3mBWTJI",
        "outputId": "daec3ff4-b8eb-4cf3-e880-6e1751f5af72"
      },
      "execution_count": null,
      "outputs": [
        {
          "output_type": "stream",
          "name": "stdout",
          "text": [
            "8\n"
          ]
        }
      ]
    },
    {
      "cell_type": "markdown",
      "source": [
        "➡️ No access to self or cls → just a function grouped inside the class for organization.\n",
        "\n",
        "🎯 2️⃣** @classmethod **→ method that receives the class as the first argument\n",
        "✅ Always receives cls as the first parameter.\n",
        "\n",
        "✅ Can modify class variables or call other class methods.\n",
        "\n"
      ],
      "metadata": {
        "id": "gsWtgTQvWV0R"
      }
    },
    {
      "cell_type": "code",
      "source": [
        "class Person:\n",
        "    count = 0\n",
        "\n",
        "    def __init__(self, name):\n",
        "        self.name = name\n",
        "        Person.count += 1\n",
        "\n",
        "    @classmethod\n",
        "    def get_count(cls):\n",
        "        return cls.count\n",
        "\n",
        "p1 = Person(\"Alice\")\n",
        "p2 = Person(\"Bob\")\n",
        "print(Person.get_count())  # Output: 2\n"
      ],
      "metadata": {
        "colab": {
          "base_uri": "https://localhost:8080/"
        },
        "id": "U0QagGulWezn",
        "outputId": "12be7ce0-89df-4aa1-de7c-6a15cf1d0f51"
      },
      "execution_count": null,
      "outputs": [
        {
          "output_type": "stream",
          "name": "stdout",
          "text": [
            "2\n"
          ]
        }
      ]
    },
    {
      "cell_type": "markdown",
      "source": [
        "➡️ cls allows get_count() to access/modify class-level attributes.\n",
        "\n",
        "# 💥** Key difference in parameters:**"
      ],
      "metadata": {
        "id": "lIDYPYr8WWff"
      }
    },
    {
      "cell_type": "code",
      "source": [
        "class Example:\n",
        "    @staticmethod\n",
        "    def static_method():\n",
        "        print(\"static method\")\n",
        "\n",
        "    @classmethod\n",
        "    def class_method(cls):\n",
        "        print(f\"class method → {cls}\")\n",
        "\n",
        "Example.static_method()  # static method\n",
        "Example.class_method()   # class method → <class '__main__.Example'>\n",
        "\n"
      ],
      "metadata": {
        "colab": {
          "base_uri": "https://localhost:8080/"
        },
        "id": "hwZN9i6ZWrpJ",
        "outputId": "bce8045e-42fd-4538-b941-86bfe94a5d0c"
      },
      "execution_count": null,
      "outputs": [
        {
          "output_type": "stream",
          "name": "stdout",
          "text": [
            "static method\n",
            "class method → <class '__main__.Example'>\n"
          ]
        }
      ]
    },
    {
      "cell_type": "markdown",
      "source": [
        "✅ @classmethod knows which class called it\n",
        "\n",
        "✅ @staticmethod doesn’t care about class or instance\n",
        "\n"
      ],
      "metadata": {
        "id": "VEiq424DWxkY"
      }
    },
    {
      "cell_type": "markdown",
      "source": [
        "📝** When to use which?**\n",
        "\n",
        "| Use case                                             | Recommended decorator |\n",
        "| ---------------------------------------------------- | --------------------- |\n",
        "| Doesn't access class/instance data → just a function | `@staticmethod`       |\n",
        "| Needs access to class variables, factory methods     | `@classmethod`        |\n",
        "\n",
        "** Example of a factory method using @classmethod:**\n"
      ],
      "metadata": {
        "id": "dcBSJ02aW004"
      }
    },
    {
      "cell_type": "code",
      "source": [
        "class Person:\n",
        "    def __init__(self, name, age):\n",
        "        self.name = name\n",
        "        self.age = age\n",
        "\n",
        "    @classmethod\n",
        "    def from_birth_year(cls, name, birth_year):\n",
        "        age = 2025 - birth_year\n",
        "        return cls(name, age)\n",
        "\n",
        "p = Person.from_birth_year(\"Alice\", 2000)\n",
        "print(p.name, p.age)  # Alice 25\n"
      ],
      "metadata": {
        "colab": {
          "base_uri": "https://localhost:8080/"
        },
        "id": "X5PZZp-xW-pY",
        "outputId": "f0abc932-1ace-4e4a-f8a1-17d96d04a991"
      },
      "execution_count": null,
      "outputs": [
        {
          "output_type": "stream",
          "name": "stdout",
          "text": [
            "Alice 25\n"
          ]
        }
      ]
    },
    {
      "cell_type": "markdown",
      "source": [
        "✅ from_birth_year returns a new instance → knows cls (the class).\n",
        "\n",
        "**In summary:**\n",
        "\n",
        "|                        | `@staticmethod` | `@classmethod`                        |\n",
        "| ---------------------- | --------------- | ------------------------------------- |\n",
        "| First arg              | None            | `cls` (class object)                  |\n",
        "| Can modify class data? | ❌ No            | ✅ Yes                                 |\n",
        "| Used for               | Utility methods | Factory methods, accessing class data |\n",
        "\n",
        "✅ Use @staticmethod for independent functions grouped in a class\n",
        "\n",
        "✅ Use @classmethod when you need to work with the class itself (like factory patterns)"
      ],
      "metadata": {
        "id": "VO5u2XQoXBf5"
      }
    },
    {
      "cell_type": "markdown",
      "source": [
        "# **23)How does polymorphism work in Python with inheritance+**\n",
        "\n",
        "ans- ✅ Polymorphism in object-oriented programming means \"many forms.\"\n",
        "\n",
        "In Python, it allows different classes (related by inheritance) to define methods with the same name but different behavior.\n",
        "\n",
        "👉 You can write code that works on objects of different classes (sharing a common parent class) without knowing their specific type.\n",
        "\n",
        "🎯 **With inheritance, polymorphism allows:**\n",
        "\n",
        "* Parent class defines a method\n",
        "\n",
        "* Child classes override (redefine) that method\n",
        "\n",
        "* You can call the method on any object (parent or child), and the correct method is chosen dynamically at runtime\n",
        "\n",
        "**Example:**\n",
        "\n"
      ],
      "metadata": {
        "id": "2ApU8x-dXLXv"
      }
    },
    {
      "cell_type": "code",
      "source": [
        "class Animal:\n",
        "    def speak(self):\n",
        "        return \"Some sound\"\n",
        "\n",
        "class Dog(Animal):\n",
        "    def speak(self):\n",
        "        return \"Woof!\"\n",
        "\n",
        "class Cat(Animal):\n",
        "    def speak(self):\n",
        "        return \"Meow!\"\n",
        "\n",
        "# Polymorphism in action\n",
        "animals = [Dog(), Cat(), Animal()]\n",
        "\n",
        "for animal in animals:\n",
        "    print(animal.speak())\n"
      ],
      "metadata": {
        "colab": {
          "base_uri": "https://localhost:8080/"
        },
        "id": "aQdHDfdcXvQi",
        "outputId": "9d975a1e-d90f-4d1b-f803-b86b23280bb7"
      },
      "execution_count": null,
      "outputs": [
        {
          "output_type": "stream",
          "name": "stdout",
          "text": [
            "Woof!\n",
            "Meow!\n",
            "Some sound\n"
          ]
        }
      ]
    },
    {
      "cell_type": "markdown",
      "source": [
        "➡️ We call speak() on different objects, without knowing their exact type → each object responds differently.\n",
        "\n",
        "📝 **Why does this work?**\n",
        "\n",
        "✅ Because Dog and Cat inherit from Animal\n",
        "\n",
        "✅ Both classes override speak() → Python automatically uses the correct version depending on the object's class\n",
        "\n",
        "**Polymorphism with functions:**\n",
        "You can also pass different subclasses to a function that works with the parent class:\n",
        "\n",
        "\n"
      ],
      "metadata": {
        "id": "wg0bX75UX0Uo"
      }
    },
    {
      "cell_type": "code",
      "source": [
        "def animal_sound(animal):\n",
        "    print(animal.speak())\n",
        "\n",
        "dog = Dog()\n",
        "cat = Cat()\n",
        "\n",
        "animal_sound(dog)  # Woof!\n",
        "animal_sound(cat)  # Meow!\n"
      ],
      "metadata": {
        "colab": {
          "base_uri": "https://localhost:8080/"
        },
        "id": "Ixttk-4UYE9I",
        "outputId": "bd0747a1-f6a8-4832-b10d-dd6ad29df595"
      },
      "execution_count": null,
      "outputs": [
        {
          "output_type": "stream",
          "name": "stdout",
          "text": [
            "Woof!\n",
            "Meow!\n"
          ]
        }
      ]
    },
    {
      "cell_type": "markdown",
      "source": [
        "✅ The function works with any object of type Animal (or its subclasses) → polymorphism allows flexible code.\n",
        "\n",
        "✨ **Key features of polymorphism with inheritance in Python:**\n",
        "\n",
        "| Feature           | Description                        |\n",
        "| ----------------- | ---------------------------------- |\n",
        "| Method overriding | Subclass redefines a parent method |\n",
        "| Common interface  | Same method name across classes    |\n",
        "| Dynamic dispatch  | Correct method chosen at runtime   |\n",
        "| Type flexibility  | Functions work with any subclass   |\n",
        "\n",
        "🚩 **Why is this useful?**\n",
        "\n",
        "✅ Makes code more extensible → add new subclasses without changing existing code\n",
        "\n",
        "✅ Enables \"programming to an interface\" → write generic code that works on a family of classes\n",
        "\n",
        "✅ Reduces if-else type checking\n",
        "\n",
        "\n",
        "🎯 **Another example:**\n",
        "\n",
        "\n"
      ],
      "metadata": {
        "id": "T4RBRf5yYHCJ"
      }
    },
    {
      "cell_type": "code",
      "source": [
        "class Shape:\n",
        "    def area(self):\n",
        "        return 0\n",
        "\n",
        "class Rectangle(Shape):\n",
        "    def __init__(self, width, height):\n",
        "        self.width = width\n",
        "        self.height = height\n",
        "\n",
        "    def area(self):\n",
        "        return self.width * self.height\n",
        "\n",
        "class Circle(Shape):\n",
        "    def __init__(self, radius):\n",
        "        self.radius = radius\n",
        "\n",
        "    def area(self):\n",
        "        return 3.14 * self.radius * self.radius\n",
        "\n",
        "shapes = [Rectangle(4, 5), Circle(3), Shape()]\n",
        "\n",
        "for shape in shapes:\n",
        "    print(f\"Area: {shape.area()}\")\n"
      ],
      "metadata": {
        "colab": {
          "base_uri": "https://localhost:8080/"
        },
        "id": "IsgCki9kYYCY",
        "outputId": "e094640d-33c5-4ea6-da6f-341f6bc3d22f"
      },
      "execution_count": null,
      "outputs": [
        {
          "output_type": "stream",
          "name": "stdout",
          "text": [
            "Area: 20\n",
            "Area: 28.259999999999998\n",
            "Area: 0\n"
          ]
        }
      ]
    },
    {
      "cell_type": "markdown",
      "source": [
        "➡️ Each shape responds differently to area() even though they share the same interface.\n",
        "\n",
        "✨ **In summary:**\n",
        "\n",
        "✅ Polymorphism with inheritance in Python allows:\n",
        "\n",
        "* Methods to be overridden in child classes\n",
        "\n",
        "* Same method name → different behaviors\n",
        "\n",
        "* Code to treat parent and child objects uniformly\n",
        "\n",
        "* Dynamic method resolution at runtime\n",
        "\n",
        " → Python automatically calls the right method based on the object’s class."
      ],
      "metadata": {
        "id": "vUUVUiEEYbAg"
      }
    },
    {
      "cell_type": "markdown",
      "source": [
        "# **24) What is method chaining in Python OOP+**\n",
        "\n",
        "ans - ✅ Method chaining means calling multiple methods on the same object in a single line, one after the other, separated by dots ..\n",
        "\n",
        "👉 Each method returns the object itself (or something chainable), allowing you to keep calling methods sequentially on the same instance.\n",
        "\n",
        "🎯 **Why is it useful?**\n",
        "\n",
        "✅ Makes code shorter and more readable\n",
        "\n",
        "✅ Avoids repeatedly writing the object name\n",
        "\n",
        "✅ Similar to chaining in libraries like pandas, SQLAlchemy, or jQuery\n",
        "\n",
        "** Example:**\n",
        "Without method chaining:\n",
        "\n"
      ],
      "metadata": {
        "id": "QcTIVNq_Ym5h"
      }
    },
    {
      "cell_type": "code",
      "source": [
        "class Person:\n",
        "    def __init__(self):\n",
        "        self.name = ''\n",
        "        self.age = 0\n",
        "\n",
        "    def set_name(self, name):\n",
        "        self.name = name\n",
        "        return self\n",
        "\n",
        "    def set_age(self, age):\n",
        "        self.age = age\n",
        "        return self\n",
        "\n",
        "p = Person()\n",
        "p.set_name(\"Alice\")\n",
        "p.set_age(30)\n",
        "\n",
        "print(p.name, p.age)\n"
      ],
      "metadata": {
        "colab": {
          "base_uri": "https://localhost:8080/"
        },
        "id": "H1LUnodVY5gI",
        "outputId": "f1241f7f-a649-4462-8bdc-e1a5b3ebc440"
      },
      "execution_count": null,
      "outputs": [
        {
          "output_type": "stream",
          "name": "stdout",
          "text": [
            "Alice 30\n"
          ]
        }
      ]
    },
    {
      "cell_type": "markdown",
      "source": [
        "✅ With method chaining:"
      ],
      "metadata": {
        "id": "CVZSjvQxY8m4"
      }
    },
    {
      "cell_type": "code",
      "source": [
        "p = Person().set_name(\"Alice\").set_age(30)\n",
        "print(p.name, p.age)\n"
      ],
      "metadata": {
        "colab": {
          "base_uri": "https://localhost:8080/"
        },
        "id": "W9MkWdpiY_Es",
        "outputId": "db98cd27-9803-46c9-dfca-bd4bd14b9048"
      },
      "execution_count": null,
      "outputs": [
        {
          "output_type": "stream",
          "name": "stdout",
          "text": [
            "Alice 30\n"
          ]
        }
      ]
    },
    {
      "cell_type": "markdown",
      "source": [
        "👉 Notice how we call .set_name() and .set_age() one after the other on the same object.\n",
        "\n",
        "📝 **Key requirement for method chaining:**\n",
        "\n",
        "Each method must return self (the object) so that the next method can be called on the result.\n"
      ],
      "metadata": {
        "id": "UY_IWkJKZCto"
      }
    },
    {
      "cell_type": "code",
      "source": [
        "def set_name(self, name):\n",
        "    self.name = name\n",
        "    return self  # <-- return the object itself\n"
      ],
      "metadata": {
        "id": "jvvDZq--ZJ1o"
      },
      "execution_count": null,
      "outputs": []
    },
    {
      "cell_type": "markdown",
      "source": [
        "Without return self, the next method call would fail because None or another value would be returned instead of the object.\n",
        "\n",
        "🎯 **Benefits of method chaining:**\n",
        "\n",
        "✅ More fluent and natural syntax\n",
        "\n",
        "✅ Good for builder patterns or configuration objects\n",
        "\n",
        "✅ Popular in APIs and libraries (like pandas, SQLAlchemy)\n",
        "\n",
        "Example:** Method chaining in a builder pattern:**\n",
        "\n",
        "\n"
      ],
      "metadata": {
        "id": "zM2zwvWMZMfA"
      }
    },
    {
      "cell_type": "code",
      "source": [
        "class PizzaBuilder:\n",
        "    def __init__(self):\n",
        "        self.ingredients = []\n",
        "\n",
        "    def add_cheese(self):\n",
        "        self.ingredients.append('cheese')\n",
        "        return self\n",
        "\n",
        "    def add_tomato(self):\n",
        "        self.ingredients.append('tomato')\n",
        "        return self\n",
        "\n",
        "    def add_pepperoni(self):\n",
        "        self.ingredients.append('pepperoni')\n",
        "        return self\n",
        "\n",
        "    def build(self):\n",
        "        return f\"Pizza with {', '.join(self.ingredients)}\"\n",
        "\n",
        "pizza = PizzaBuilder().add_cheese().add_tomato().add_pepperoni().build()\n",
        "print(pizza)\n"
      ],
      "metadata": {
        "colab": {
          "base_uri": "https://localhost:8080/"
        },
        "id": "j33Zzq_wZXHR",
        "outputId": "8eb98a1a-f8c6-4ba1-9bea-78c611c5aa32"
      },
      "execution_count": null,
      "outputs": [
        {
          "output_type": "stream",
          "name": "stdout",
          "text": [
            "Pizza with cheese, tomato, pepperoni\n"
          ]
        }
      ]
    },
    {
      "cell_type": "markdown",
      "source": [
        "👉 The methods add_cheese(), add_tomato(), add_pepperoni() are chained together.\n",
        "\n",
        "🚩 **When not to use method chaining?**\n",
        "\n",
        "❌ If each method should return a different data type → chaining would break\n",
        "\n",
        "❌ If methods have side effects → chaining may reduce clarity\n",
        "\n",
        "✨ **In summary:**\n",
        "\n",
        "✅ Method chaining → calling multiple methods sequentially on the same object\n",
        "\n",
        "✅ Each method must return self (or another chainable object)\n",
        "\n",
        "✅ Helps write cleaner, fluent, and concise code\n",
        "\n",
        "✅ Common in builder patterns, APIs, query builders, data pipelines\n",
        "\n"
      ],
      "metadata": {
        "id": "ypXdPDCQZaZ4"
      }
    },
    {
      "cell_type": "markdown",
      "source": [
        "# **25) What is the purpose of the __call__ method in Python?**\n",
        "\n",
        "ans- ✅ The __call__ method is a special method (a “dunder” method) that allows an instance of a class to be called like a function.\n",
        "\n",
        "👉 If a class defines __call__, you can \"call\" an object of that class using parentheses () just like a function!\n",
        "\n",
        "\n",
        "**Key idea:**\n",
        "\n"
      ],
      "metadata": {
        "id": "B0tdnx53Z45R"
      }
    },
    {
      "cell_type": "code",
      "source": [
        "obj = SomeClass()\n",
        "obj()  # ← calls obj.__call__()\n"
      ],
      "metadata": {
        "id": "Ytbv4VDSaTn4"
      },
      "execution_count": null,
      "outputs": []
    },
    {
      "cell_type": "markdown",
      "source": [
        "✅ When you write obj(), Python internally calls obj.__call__()."
      ],
      "metadata": {
        "id": "fCTRuS_maYhI"
      }
    },
    {
      "cell_type": "markdown",
      "source": [
        " Simple example:"
      ],
      "metadata": {
        "id": "vGyQWnrPaZX5"
      }
    },
    {
      "cell_type": "code",
      "source": [
        "class Greeter:\n",
        "    def __call__(self, name):\n",
        "        print(f\"Hello, {name}!\")\n",
        "\n",
        "greet = Greeter()\n",
        "greet(\"Alice\")  # behaves like a function call\n"
      ],
      "metadata": {
        "colab": {
          "base_uri": "https://localhost:8080/"
        },
        "id": "NM70GFoIadJw",
        "outputId": "09781249-9c68-452e-abbb-366709549f4e"
      },
      "execution_count": null,
      "outputs": [
        {
          "output_type": "stream",
          "name": "stdout",
          "text": [
            "Hello, Alice!\n"
          ]
        }
      ]
    },
    {
      "cell_type": "markdown",
      "source": [
        "👉 Even though greet is an object, not a function, we can call it like a function because __call__ is defined.\n",
        "\n",
        "🎯 **When is __call__ useful?**\n",
        "\n",
        "✅ When you want an object to behave like a function (callable object)\n",
        "\n",
        "✅ When you want to maintain state inside a callable object\n",
        "\n",
        "✅ Useful in:\n",
        "\n",
        "\n",
        "Function decorators\n",
        "\n",
        "Callback objects\n",
        "\n",
        "Stateful functions\n",
        "\n",
        "APIs\n",
        "\n",
        "Example: counting how many times an object is called:"
      ],
      "metadata": {
        "id": "QY6-KAXIafrA"
      }
    },
    {
      "cell_type": "code",
      "source": [
        "class Counter:\n",
        "    def __init__(self):\n",
        "        self.count = 0\n",
        "\n",
        "    def __call__(self):\n",
        "        self.count += 1\n",
        "        print(f\"Called {self.count} times.\")\n",
        "\n",
        "c = Counter()\n",
        "c()  # Called 1 times.\n",
        "c()  # Called 2 times.\n",
        "c()  # Called 3 times.\n"
      ],
      "metadata": {
        "colab": {
          "base_uri": "https://localhost:8080/"
        },
        "id": "wdsHQTYdapY4",
        "outputId": "459de0e7-e2e7-4a5b-e933-d2eb2ae2852a"
      },
      "execution_count": null,
      "outputs": [
        {
          "output_type": "stream",
          "name": "stdout",
          "text": [
            "Called 1 times.\n",
            "Called 2 times.\n",
            "Called 3 times.\n"
          ]
        }
      ]
    },
    {
      "cell_type": "markdown",
      "source": [
        "✅ Each time you “call” the object, it remembers how many times it’s been called.\n",
        "\n",
        " ***Example with function decorator:***\n",
        "\n"
      ],
      "metadata": {
        "id": "H6gsGUR3asjw"
      }
    },
    {
      "cell_type": "code",
      "source": [
        "class Decorator:\n",
        "    def __init__(self, func):\n",
        "        self.func = func\n",
        "\n",
        "    def __call__(self, *args, **kwargs):\n",
        "        print(\"Before function call\")\n",
        "        result = self.func(*args, **kwargs)\n",
        "        print(\"After function call\")\n",
        "        return result\n",
        "\n",
        "@Decorator\n",
        "def greet(name):\n",
        "    print(f\"Hello, {name}!\")\n",
        "\n",
        "greet(\"Alice\")\n"
      ],
      "metadata": {
        "colab": {
          "base_uri": "https://localhost:8080/"
        },
        "id": "UcsCMLyGazYA",
        "outputId": "604faa67-a509-4730-b1aa-859dba0bc47e"
      },
      "execution_count": null,
      "outputs": [
        {
          "output_type": "stream",
          "name": "stdout",
          "text": [
            "Before function call\n",
            "Hello, Alice!\n",
            "After function call\n"
          ]
        }
      ]
    },
    {
      "cell_type": "markdown",
      "source": [
        " @Decorator turns greet into an instance of Decorator → calling greet(\"Alice\") → triggers Decorator.__call__\n",
        "\n",
        " ✨** In summary:**\n",
        "\n",
        " | Feature    | Description                             |\n",
        "| ---------- | --------------------------------------- |\n",
        "| What it is | Special method to make objects callable |\n",
        "| Called by  | Using parentheses `()` on an object     |\n",
        "| Purpose    | Make object behave like a function      |\n",
        "| Use cases  | Stateful callables, decorators, APIs    |\n",
        "\n",
        "\n",
        "✅ __call__ lets you create objects that work like functions but can store state and logic internally.\n",
        "\n",
        "Let me know if you'd like to see a real-world library example (like using __call__ in machine learning models or decorators)! 😄"
      ],
      "metadata": {
        "id": "mEVU5MOCavaB"
      }
    },
    {
      "cell_type": "markdown",
      "source": [
        "#                 **practical question**"
      ],
      "metadata": {
        "id": "9zgZwtZ-bFEo"
      }
    },
    {
      "cell_type": "markdown",
      "source": [
        "1.Create a parent class Animal with a method speak() that prints a generic message. Create a child class Dog\n",
        "that overrides the speak() method to print \"Bark!\"\n",
        "\n",
        "ans -  Example: Parent Animal class and child Dog class overriding speak()"
      ],
      "metadata": {
        "id": "Er1buJKcbW15"
      }
    },
    {
      "cell_type": "code",
      "source": [
        "class Animal:\n",
        "    def speak(self):\n",
        "        print(\"The animal makes a sound.\")\n",
        "\n",
        "class Dog(Animal):\n",
        "    def speak(self):\n",
        "        print(\"Bark!\")\n",
        "\n",
        "# Testing\n",
        "a = Animal()\n",
        "a.speak()  # Output: The animal makes a sound.\n",
        "\n",
        "d = Dog()\n",
        "d.speak()  # Output: Bark!\n"
      ],
      "metadata": {
        "colab": {
          "base_uri": "https://localhost:8080/"
        },
        "id": "mcof9rhIbrhI",
        "outputId": "78c7ea6f-6865-4025-f66b-9ee842cef39b"
      },
      "execution_count": null,
      "outputs": [
        {
          "output_type": "stream",
          "name": "stdout",
          "text": [
            "The animal makes a sound.\n",
            "Bark!\n"
          ]
        }
      ]
    },
    {
      "cell_type": "markdown",
      "source": [
        "✅ Explanation:\n",
        "\n",
        "Animal is the parent class with a speak() method.\n",
        "\n",
        "Dog is the child class that overrides speak() to provide its own implementation.\n",
        "\n",
        "When you call speak() on a Dog object → Python uses the overridden method in Dog."
      ],
      "metadata": {
        "id": "hAYYuwW3cHmI"
      }
    },
    {
      "cell_type": "markdown",
      "source": [
        "2) Write a program to create an abstract class Shape with a method area(). Derive classes Circle and Rectangle\n",
        "from it and implement the area() method in both.\n",
        "\n",
        "ans- ✅ We'll create:\n",
        "\n",
        "* An abstract class Shape with an abstract method area().\n",
        "\n",
        "* Two child classes Circle and Rectangle that override area().\n",
        "\n"
      ],
      "metadata": {
        "id": "-AS8NasVcJ2A"
      }
    },
    {
      "cell_type": "code",
      "source": [
        "from abc import ABC, abstractmethod\n",
        "import math\n",
        "\n",
        "class Shape(ABC):\n",
        "    @abstractmethod\n",
        "    def area(self):\n",
        "        pass\n",
        "\n",
        "class Circle(Shape):\n",
        "    def __init__(self, radius):\n",
        "        self.radius = radius\n",
        "\n",
        "    def area(self):\n",
        "        return math.pi * self.radius * self.radius\n",
        "\n",
        "class Rectangle(Shape):\n",
        "    def __init__(self, width, height):\n",
        "        self.width = width\n",
        "        self.height = height\n",
        "\n",
        "    def area(self):\n",
        "        return self.width * self.height\n",
        "\n",
        "# Testing\n",
        "circle = Circle(5)\n",
        "rectangle = Rectangle(4, 6)\n",
        "\n",
        "print(f\"Area of circle: {circle.area():.2f}\")\n",
        "print(f\"Area of rectangle: {rectangle.area()}\")\n"
      ],
      "metadata": {
        "colab": {
          "base_uri": "https://localhost:8080/"
        },
        "id": "Jiza4pJgcf0Q",
        "outputId": "1789bc6b-5372-4826-e3a2-13cb85974aa3"
      },
      "execution_count": null,
      "outputs": [
        {
          "output_type": "stream",
          "name": "stdout",
          "text": [
            "Area of circle: 78.54\n",
            "Area of rectangle: 24\n"
          ]
        }
      ]
    },
    {
      "cell_type": "markdown",
      "source": [
        "✅ Explanation:\n",
        "\n",
        "* Shape is an abstract class (using ABC as base class)\n",
        "\n",
        "* area() is an abstract method → must be implemented by subclasses\n",
        "\n",
        "* Circle and Rectangle both provide their own implementation of area()\n",
        "\n"
      ],
      "metadata": {
        "id": "t5Z0etQGchUI"
      }
    },
    {
      "cell_type": "markdown",
      "source": [
        " 3)Implement a multi-level inheritance scenario where a class Vehicle has an attribute type. Derive a class Car\n",
        "and further derive a class ElectricCar that adds a battery attribute.\n",
        "\n",
        "ans- * A base class Vehicle with an attribute type.\n",
        "\n",
        "* A derived class Car that inherits from Vehicle.\n",
        "\n",
        "* A further derived class ElectricCar that inherits from Car and adds a battery attribute.\n",
        "  \n"
      ],
      "metadata": {
        "id": "TClq_vYPcqwH"
      }
    },
    {
      "cell_type": "code",
      "source": [
        "class Vehicle:\n",
        "    def __init__(self, type):\n",
        "        self.type = type\n",
        "\n",
        "    def display_type(self):\n",
        "        print(f\"Vehicle type: {self.type}\")\n",
        "\n",
        "class Car(Vehicle):\n",
        "    def __init__(self, type, brand):\n",
        "        super().__init__(type)\n",
        "        self.brand = brand\n",
        "\n",
        "    def display_brand(self):\n",
        "        print(f\"Car brand: {self.brand}\")\n",
        "\n",
        "class ElectricCar(Car):\n",
        "    def __init__(self, type, brand, battery):\n",
        "        super().__init__(type, brand)\n",
        "        self.battery = battery\n",
        "\n",
        "    def display_battery(self):\n",
        "        print(f\"Battery capacity: {self.battery} kWh\")\n",
        "\n",
        "# Testing\n",
        "ecar = ElectricCar(\"Car\", \"Tesla\", 75)\n",
        "ecar.display_type()       # Output: Vehicle type: Car\n",
        "ecar.display_brand()      # Output: Car brand: Tesla\n",
        "ecar.display_battery()    # Output: Battery capacity: 75 kWh\n"
      ],
      "metadata": {
        "colab": {
          "base_uri": "https://localhost:8080/"
        },
        "id": "X0xjW0Pvc8PP",
        "outputId": "3a3f4d8b-3004-4373-b247-d14e5c40b6f4"
      },
      "execution_count": null,
      "outputs": [
        {
          "output_type": "stream",
          "name": "stdout",
          "text": [
            "Vehicle type: Car\n",
            "Car brand: Tesla\n",
            "Battery capacity: 75 kWh\n"
          ]
        }
      ]
    },
    {
      "cell_type": "markdown",
      "source": [
        "✅ Explanation:\n",
        "\n",
        "Vehicle → base class with type\n",
        "\n",
        "Car → inherits Vehicle, adds brand\n",
        "\n",
        "ElectricCar → inherits Car, adds battery"
      ],
      "metadata": {
        "id": "tsx-g0poc-9B"
      }
    },
    {
      "cell_type": "markdown",
      "source": [
        " 4) Demonstrate polymorphism by creating a base class Bird with a method fly(). Create two derived classes\n",
        "Sparrow and Penguin that override the fly() method.\n",
        "\n",
        "ans- * A base class Bird with a fly() method.\n",
        "\n",
        "* Two derived classes Sparrow and Penguin, each overriding fly() with their own behavior.\n",
        "\n"
      ],
      "metadata": {
        "id": "fpeiOcbHdAVZ"
      }
    },
    {
      "cell_type": "code",
      "source": [
        "class Bird:\n",
        "    def fly(self):\n",
        "        print(\"The bird is flying.\")\n",
        "\n",
        "class Sparrow(Bird):\n",
        "    def fly(self):\n",
        "        print(\"Sparrow flies high in the sky.\")\n",
        "\n",
        "class Penguin(Bird):\n",
        "    def fly(self):\n",
        "        print(\"Penguin cannot fly, but it swims.\")\n",
        "\n",
        "# Testing polymorphism\n",
        "birds = [Sparrow(), Penguin()]\n",
        "\n",
        "for bird in birds:\n",
        "    bird.fly()  # Polymorphic call\n"
      ],
      "metadata": {
        "colab": {
          "base_uri": "https://localhost:8080/"
        },
        "id": "RgIqCPMKdNAY",
        "outputId": "b82d2fea-d23d-471d-a144-3740fd43f405"
      },
      "execution_count": null,
      "outputs": [
        {
          "output_type": "stream",
          "name": "stdout",
          "text": [
            "Sparrow flies high in the sky.\n",
            "Penguin cannot fly, but it swims.\n"
          ]
        }
      ]
    },
    {
      "cell_type": "markdown",
      "source": [
        "✅ Explanation:\n",
        "\n",
        "* Bird defines a generic fly() method.\n",
        "\n",
        "* Sparrow and Penguin override fly() to provide specific implementations.\n",
        "\n",
        "* We use a common interface (fly) to call different behaviors at runtime.\n",
        "\n"
      ],
      "metadata": {
        "id": "aceQfQz4dPhw"
      }
    },
    {
      "cell_type": "markdown",
      "source": [
        "👉 This is polymorphism in action → same method name, different behavior depending on the object."
      ],
      "metadata": {
        "id": "pObZyw2edWoI"
      }
    },
    {
      "cell_type": "markdown",
      "source": [
        "5. Write a program to demonstrate encapsulation by creating a class BankAccount with private attributes\n",
        "balance and methods to deposit, withdraw, and check balance.\n",
        "\n",
        "ans -*  Make balance private (using __balance)\n",
        "\n",
        "* Provide public methods to deposit, withdraw, and check_balance\n",
        "\n",
        "\n",
        "\n"
      ],
      "metadata": {
        "id": "WxWJ0gmYdXsh"
      }
    },
    {
      "cell_type": "code",
      "source": [
        "class BankAccount:\n",
        "    def __init__(self, initial_balance=0):\n",
        "        self.__balance = initial_balance  # private attribute\n",
        "\n",
        "    def deposit(self, amount):\n",
        "        if amount > 0:\n",
        "            self.__balance += amount\n",
        "            print(f\"Deposited: {amount}\")\n",
        "        else:\n",
        "            print(\"Deposit amount must be positive.\")\n",
        "\n",
        "    def withdraw(self, amount):\n",
        "        if 0 < amount <= self.__balance:\n",
        "            self.__balance -= amount\n",
        "            print(f\"Withdrawn: {amount}\")\n",
        "        else:\n",
        "            print(\"Insufficient balance or invalid amount.\")\n",
        "\n",
        "    def check_balance(self):\n",
        "        print(f\"Current balance: {self.__balance}\")\n",
        "\n",
        "# Testing\n",
        "account = BankAccount(100)\n",
        "account.check_balance()   # Output: Current balance: 100\n",
        "account.deposit(50)       # Output: Deposited: 50\n",
        "account.check_balance()   # Output: Current balance: 150\n",
        "account.withdraw(70)      # Output: Withdrawn: 70\n",
        "account.check_balance()   # Output: Current balance: 80\n",
        "\n",
        "# Trying to access private attribute directly (should fail)\n",
        "# print(account.__balance)  # AttributeError\n"
      ],
      "metadata": {
        "colab": {
          "base_uri": "https://localhost:8080/"
        },
        "id": "Xsd0Df-zdrph",
        "outputId": "064513bb-6401-4a8b-9364-6ef69627f621"
      },
      "execution_count": null,
      "outputs": [
        {
          "output_type": "stream",
          "name": "stdout",
          "text": [
            "Current balance: 100\n",
            "Deposited: 50\n",
            "Current balance: 150\n",
            "Withdrawn: 70\n",
            "Current balance: 80\n"
          ]
        }
      ]
    },
    {
      "cell_type": "markdown",
      "source": [
        "✅ Explanation:\n",
        "\n",
        "__balance → private attribute (name mangled)\n",
        "\n",
        "Methods deposit, withdraw, check_balance provide controlled access\n",
        "\n",
        "Direct access like account.__balance raises an AttributeError → encapsulation protects data.\n",
        "\n",
        "\n",
        "This shows encapsulation → data is hidden and accessed only via methods."
      ],
      "metadata": {
        "id": "PdiSvUGRdw1x"
      }
    },
    {
      "cell_type": "markdown",
      "source": [
        " 6) Demonstrate runtime polymorphism using a method play() in a base class Instrument. Derive classes Guitar\n",
        "and Piano that implement their own version of play().\n",
        "\n",
        "ans- **What is runtime polymorphism?**\n",
        "\n",
        "It occurs when a method in a derived class overrides the method in the base class.\n",
        "\n",
        "At runtime, the correct version of the method is called depending on the object type.\n",
        "\n",
        "Let's implement this in Python:"
      ],
      "metadata": {
        "id": "wy_TivoPd7Iw"
      }
    },
    {
      "cell_type": "code",
      "source": [
        "class Instrument:\n",
        "    def play(self):\n",
        "        print(\"The instrument is being played.\")\n",
        "\n",
        "class Guitar(Instrument):\n",
        "    def play(self):\n",
        "        print(\"Strumming the guitar.\")\n",
        "\n",
        "class Piano(Instrument):\n",
        "    def play(self):\n",
        "        print(\"Playing the piano.\")\n",
        "\n",
        "# Testing runtime polymorphism\n",
        "instruments = [Guitar(), Piano(), Instrument()]\n",
        "\n",
        "for instrument in instruments:\n",
        "    instrument.play()  # Polymorphic call\n"
      ],
      "metadata": {
        "colab": {
          "base_uri": "https://localhost:8080/"
        },
        "id": "57GPIlqlePFC",
        "outputId": "0c364340-cd6c-4942-f801-a50cbe95bd2c"
      },
      "execution_count": null,
      "outputs": [
        {
          "output_type": "stream",
          "name": "stdout",
          "text": [
            "Strumming the guitar.\n",
            "Playing the piano.\n",
            "The instrument is being played.\n"
          ]
        }
      ]
    },
    {
      "cell_type": "markdown",
      "source": [
        "✅ Explanation:\n",
        "Instrument is the base class with a generic play() method.\n",
        "\n",
        "Guitar and Piano override the play() method to provide specific implementations.\n",
        "\n",
        "In the loop, we create a list of instruments and call the play() method. Polymorphism ensures that the correct play() method is called based on the object's actual type (whether Guitar, Piano, or Instrument).\n",
        "\n",
        "✨ In summary:\n",
        "\n",
        "Polymorphism allows us to use the same method name (play()), but with different behavior depending on the object type.\n",
        "\n",
        "At runtime, Python automatically decides which version of play() to call based on the object type, not the reference type."
      ],
      "metadata": {
        "id": "Sf4c9VETeXI4"
      }
    },
    {
      "cell_type": "markdown",
      "source": [
        " 7) Create a class MathOperations with a class method add_numbers() to add two numbers and a static\n",
        "method subtract_numbers() to subtract two numbers.\n",
        "\n",
        "ans-\n",
        "* Class method: add_numbers() to add two numbers.\n",
        "\n",
        "* Static method: subtract_numbers() to subtract two numbers."
      ],
      "metadata": {
        "id": "VLZIM6geeYwx"
      }
    },
    {
      "cell_type": "code",
      "source": [
        "class MathOperations:\n",
        "    @classmethod\n",
        "    def add_numbers(cls, num1, num2):\n",
        "        return num1 + num2\n",
        "\n",
        "    @staticmethod\n",
        "    def subtract_numbers(num1, num2):\n",
        "        return num1 - num2\n",
        "\n",
        "# Testing the methods\n",
        "sum_result = MathOperations.add_numbers(10, 5)  # Using class method\n",
        "difference_result = MathOperations.subtract_numbers(10, 5)  # Using static method\n",
        "\n",
        "print(f\"Sum: {sum_result}\")\n",
        "print(f\"Difference: {difference_result}\")\n"
      ],
      "metadata": {
        "colab": {
          "base_uri": "https://localhost:8080/"
        },
        "id": "vZkcflaIe14w",
        "outputId": "8f30a354-4915-4fdf-b519-b0972fc5ae2e"
      },
      "execution_count": null,
      "outputs": [
        {
          "output_type": "stream",
          "name": "stdout",
          "text": [
            "Sum: 15\n",
            "Difference: 5\n"
          ]
        }
      ]
    },
    {
      "cell_type": "markdown",
      "source": [
        "✅ Explanation:\n",
        "Class method:\n",
        "\n",
        "add_numbers() is a class method, indicated by the @classmethod decorator. It takes cls as the first parameter (though it's not used here).\n",
        "\n",
        "It can be called with the class name MathOperations.add_numbers(), but you can also call it with an instance if needed.\n",
        "\n",
        "Static method:\n",
        "\n",
        "subtract_numbers() is a static method, indicated by the @staticmethod decorator. It doesn't take cls or self as a parameter.\n",
        "\n",
        "It's used when the method doesn't need access to class or instance-specific data.\n",
        "\n",
        "\n",
        "✨ **In summary:**\n",
        "\n",
        "Class method (@classmethod) is used when the method needs to operate on the class itself.\n",
        "\n",
        "Static method (@staticmethod) is used when the method doesn't need access to class or instance-specific data."
      ],
      "metadata": {
        "id": "ved7nIbXe5v5"
      }
    },
    {
      "cell_type": "markdown",
      "source": [
        "8) Implement a class Person with a class method to count the total number of persons created\n",
        "\n",
        "ans- Here's an implementation of the Person class with a class method to count the total number of persons created:\n",
        "\n"
      ],
      "metadata": {
        "id": "D1q3Q5Ufe-pQ"
      }
    },
    {
      "cell_type": "code",
      "source": [
        "class Person:\n",
        "    # Class variable to keep track of the count\n",
        "    total_persons = 0\n",
        "\n",
        "    def __init__(self, name, age):\n",
        "        self.name = name\n",
        "        self.age = age\n",
        "        Person.total_persons += 1  # Increment the count when a new person is created\n",
        "\n",
        "    @classmethod\n",
        "    def get_total_persons(cls):\n",
        "        return cls.total_persons  # Return the total count of Person objects created\n",
        "\n",
        "# Example usage:\n",
        "person1 = Person(\"Alice\", 30)\n",
        "person2 = Person(\"Bob\", 25)\n",
        "person3 = Person(\"Charlie\", 35)\n",
        "\n",
        "# Get the total number of Person objects created\n",
        "print(Person.get_total_persons())  # Output: 3\n"
      ],
      "metadata": {
        "colab": {
          "base_uri": "https://localhost:8080/"
        },
        "id": "2NbGxoslhLew",
        "outputId": "b0aed569-9239-46c7-93c4-f5ac6b02ae06"
      },
      "execution_count": null,
      "outputs": [
        {
          "output_type": "stream",
          "name": "stdout",
          "text": [
            "3\n"
          ]
        }
      ]
    },
    {
      "cell_type": "markdown",
      "source": [
        "**Explanation:**\n",
        "\n",
        "The total_persons class variable keeps track of how many instances of the Person class have been created.\n",
        "\n",
        "The __init__ method increments total_persons every time a new Person object is created.\n",
        "\n",
        "The get_total_persons class method returns the current count of persons created."
      ],
      "metadata": {
        "id": "dnxtaC-hhP6-"
      }
    },
    {
      "cell_type": "markdown",
      "source": [
        " 9) Write a class Fraction with attributes numerator and denominator. Override the str method to display the\n",
        "fraction as \"numerator/denominator\".\n",
        "\n",
        "ans- Here’s an implementation of the Fraction class with numerator and denominator attributes and an overridden __str__ method to display the fraction in the \"numerator/denominator\" format:\n",
        "\n"
      ],
      "metadata": {
        "id": "Lktw6YbMhSvP"
      }
    },
    {
      "cell_type": "code",
      "source": [
        "class Fraction:\n",
        "    def __init__(self, numerator, denominator):\n",
        "        self.numerator = numerator\n",
        "        self.denominator = denominator\n",
        "\n",
        "    def __str__(self):\n",
        "        return f\"{self.numerator}/{self.denominator}\"\n",
        "\n",
        "# Example usage:\n",
        "fraction1 = Fraction(3, 4)\n",
        "fraction2 = Fraction(5, 6)\n",
        "\n",
        "print(fraction1)  # Output: 3/4\n",
        "print(fraction2)  # Output: 5/6\n"
      ],
      "metadata": {
        "colab": {
          "base_uri": "https://localhost:8080/"
        },
        "id": "UNwU_UO7hepn",
        "outputId": "f64566b6-4b97-4363-93bf-523752ebf784"
      },
      "execution_count": null,
      "outputs": [
        {
          "output_type": "stream",
          "name": "stdout",
          "text": [
            "3/4\n",
            "5/6\n"
          ]
        }
      ]
    },
    {
      "cell_type": "markdown",
      "source": [
        "**Explanation:**\n",
        "\n",
        "The __init__ method initializes the numerator and denominator attributes.\n",
        "\n",
        "The __str__ method is overridden to return the fraction in the format \"numerator/denominator\", which is what Python will display when you print the object."
      ],
      "metadata": {
        "id": "UN50Qw0RhiU2"
      }
    },
    {
      "cell_type": "markdown",
      "source": [
        "10) Demonstrate operator overloading by creating a class Vector and overriding the add method to add two\n",
        "vectors.\n",
        "\n",
        "ans- Below is an implementation of a Vector class that demonstrates operator overloading by overriding the __add__ method to add two vectors:"
      ],
      "metadata": {
        "id": "d3KUhRYKhlVO"
      }
    },
    {
      "cell_type": "code",
      "source": [
        "class Vector:\n",
        "    def __init__(self, x, y):\n",
        "        self.x = x\n",
        "        self.y = y\n",
        "\n",
        "    def __add__(self, other):\n",
        "        # Overloading the + operator to add two vectors\n",
        "        return Vector(self.x + other.x, self.y + other.y)\n",
        "\n",
        "    def __str__(self):\n",
        "        return f\"({self.x}, {self.y})\"\n",
        "\n",
        "# Example usage:\n",
        "v1 = Vector(2, 3)\n",
        "v2 = Vector(4, 5)\n",
        "\n",
        "v3 = v1 + v2  # Calls __add__\n",
        "\n",
        "print(f\"v1: {v1}\")  # Output: (2, 3)\n",
        "print(f\"v2: {v2}\")  # Output: (4, 5)\n",
        "print(f\"v1 + v2 = {v3}\")  # Output: (6, 8)\n"
      ],
      "metadata": {
        "colab": {
          "base_uri": "https://localhost:8080/"
        },
        "id": "_49m9J3shwqG",
        "outputId": "3b9912f9-0a33-4c1b-92ef-073d7faef16f"
      },
      "execution_count": null,
      "outputs": [
        {
          "output_type": "stream",
          "name": "stdout",
          "text": [
            "v1: (2, 3)\n",
            "v2: (4, 5)\n",
            "v1 + v2 = (6, 8)\n"
          ]
        }
      ]
    },
    {
      "cell_type": "markdown",
      "source": [
        "✅ Explanation:\n",
        "* The __init__ method initializes a vector with x and y components.\n",
        "\n",
        "* The __add__ method is overridden to define how the + operator works for two Vector objects (i.e., adding corresponding components).\n",
        "\n",
        "* The __str__ method is overridden to provide a string representation of the vector for easy printing."
      ],
      "metadata": {
        "id": "gz5vMWFoh0e3"
      }
    },
    {
      "cell_type": "markdown",
      "source": [
        " 11) Create a class Person with attributes name and age. Add a method greet() that prints \"Hello, my name is\n",
        "{name} and I am {age} years old.\"\n",
        "\n",
        "Ans- Here's the implementation of a Person class with name and age attributes, and a greet() method as specified:\n"
      ],
      "metadata": {
        "id": "17VMRTfch5Gf"
      }
    },
    {
      "cell_type": "code",
      "source": [
        "class Person:\n",
        "    def __init__(self, name, age):\n",
        "        self.name = name\n",
        "        self.age = age\n",
        "\n",
        "    def greet(self):\n",
        "        print(f\"Hello, my name is {self.name} and I am {self.age} years old.\")\n",
        "\n",
        "# Example usage:\n",
        "person1 = Person(\"Alice\", 30)\n",
        "person1.greet()  # Output: Hello, my name is Alice and I am 30 years old.\n"
      ],
      "metadata": {
        "colab": {
          "base_uri": "https://localhost:8080/"
        },
        "id": "yjzruS5QiEYW",
        "outputId": "a123e619-ae44-4ce7-da3e-6225e4f7702b"
      },
      "execution_count": null,
      "outputs": [
        {
          "output_type": "stream",
          "name": "stdout",
          "text": [
            "Hello, my name is Alice and I am 30 years old.\n"
          ]
        }
      ]
    },
    {
      "cell_type": "markdown",
      "source": [
        "✅ Explanation:\n",
        "\n",
        "* The __init__ method initializes the name and age attributes.\n",
        "\n",
        "* The greet() method prints the greeting message using those attributes.\n",
        "*Let me know if you'd like to extend this class with more features!"
      ],
      "metadata": {
        "id": "CU6TEIH2iHSx"
      }
    },
    {
      "cell_type": "markdown",
      "source": [
        "12) Implement a class Student with attributes name and grades. Create a method average_grade() to compute\n",
        "the average of the grades.\n",
        "\n",
        "Ans- Here’s the implementation of a Student class with name and grades attributes, and a method average_grade() to compute the average of the grades:"
      ],
      "metadata": {
        "id": "TsVZWFKeiMY3"
      }
    },
    {
      "cell_type": "code",
      "source": [
        "class Student:\n",
        "    def __init__(self, name, grades):\n",
        "        self.name = name\n",
        "        self.grades = grades  # grades should be a list of numbers\n",
        "\n",
        "    def average_grade(self):\n",
        "        if len(self.grades) == 0:\n",
        "            return 0  # To avoid division by zero\n",
        "        return sum(self.grades) / len(self.grades)\n",
        "\n",
        "# Example usage:\n",
        "student1 = Student(\"John\", [85, 90, 78, 92])\n",
        "print(f\"{student1.name}'s average grade is: {student1.average_grade():.2f}\")\n"
      ],
      "metadata": {
        "colab": {
          "base_uri": "https://localhost:8080/"
        },
        "id": "bwH8ic_3ib2u",
        "outputId": "fcc54328-d40f-486f-ad6b-fd2d3e5defb3"
      },
      "execution_count": null,
      "outputs": [
        {
          "output_type": "stream",
          "name": "stdout",
          "text": [
            "John's average grade is: 86.25\n"
          ]
        }
      ]
    },
    {
      "cell_type": "markdown",
      "source": [
        "✅ Explanation:\n",
        "\n",
        "The __init__ method initializes name and grades (which is a list).\n",
        "\n",
        "The average_grade() method calculates the average by dividing the sum of grades\n",
        " by their count (with a check to avoid division by zero)."
      ],
      "metadata": {
        "id": "Ruyvq84Uif1p"
      }
    },
    {
      "cell_type": "markdown",
      "source": [
        " 13) Create a class Rectangle with methods set_dimensions() to set the dimensions and area() to calculate the\n",
        "area\n",
        "\n",
        "Ans- Here's the implementation of a Rectangle class with a set_dimensions() method to set the length and width, and an area() method to calculate the area:"
      ],
      "metadata": {
        "id": "TJQZHq-3iiyW"
      }
    },
    {
      "cell_type": "code",
      "source": [
        "class Rectangle:\n",
        "    def __init__(self):\n",
        "        self.length = 0\n",
        "        self.width = 0\n",
        "\n",
        "    def set_dimensions(self, length, width):\n",
        "        self.length = length\n",
        "        self.width = width\n",
        "\n",
        "    def area(self):\n",
        "        return self.length * self.width\n",
        "\n",
        "# Example usage:\n",
        "rect = Rectangle()\n",
        "rect.set_dimensions(5, 4)\n",
        "print(f\"The area of the rectangle is: {rect.area()}\")\n"
      ],
      "metadata": {
        "colab": {
          "base_uri": "https://localhost:8080/"
        },
        "id": "dzoWFRMXivKQ",
        "outputId": "5dc4325e-c581-4494-b36f-0bbd3c97b494"
      },
      "execution_count": null,
      "outputs": [
        {
          "output_type": "stream",
          "name": "stdout",
          "text": [
            "The area of the rectangle is: 20\n"
          ]
        }
      ]
    },
    {
      "cell_type": "markdown",
      "source": [
        "✅ Explanation:\n",
        "\n",
        "The __init__ method initializes length and width to 0 by default.\n",
        "\n",
        "The set_dimensions() method sets the length and width to given values.\n",
        "\n",
        "The area() method returns the area by multiplying length and width."
      ],
      "metadata": {
        "id": "pSYhs-1Eiyh3"
      }
    },
    {
      "cell_type": "markdown",
      "source": [
        "14. Create a class Employee with a method calculate_salary() that computes the salary based on hours worked\n",
        "and hourly rate. Create a derived class Manager that adds a bonus to the salary.\n",
        "\n",
        "Ans- Below is the implementation of an Employee class with a calculate_salary() method, and a derived class Manager that adds a bonus to the salary"
      ],
      "metadata": {
        "id": "4I8GFk6cizv3"
      }
    },
    {
      "cell_type": "code",
      "source": [
        "class Employee:\n",
        "    def __init__(self, name, hours_worked, hourly_rate):\n",
        "        self.name = name\n",
        "        self.hours_worked = hours_worked\n",
        "        self.hourly_rate = hourly_rate\n",
        "\n",
        "    def calculate_salary(self):\n",
        "        return self.hours_worked * self.hourly_rate\n",
        "\n",
        "\n",
        "class Manager(Employee):\n",
        "    def __init__(self, name, hours_worked, hourly_rate, bonus):\n",
        "        super().__init__(name, hours_worked, hourly_rate)\n",
        "        self.bonus = bonus\n",
        "\n",
        "    def calculate_salary(self):\n",
        "        base_salary = super().calculate_salary()\n",
        "        return base_salary + self.bonus\n",
        "\n",
        "\n",
        "# Example usage:\n",
        "emp = Employee(\"Alice\", 40, 20)\n",
        "print(f\"{emp.name}'s salary: ${emp.calculate_salary()}\")\n",
        "\n",
        "mgr = Manager(\"Bob\", 40, 30, 500)\n",
        "print(f\"{mgr.name}'s salary (with bonus): ${mgr.calculate_salary()}\")\n"
      ],
      "metadata": {
        "colab": {
          "base_uri": "https://localhost:8080/"
        },
        "id": "xxi7N5cpjDB3",
        "outputId": "ef03d616-579b-4074-b43c-a314de9b6d1d"
      },
      "execution_count": null,
      "outputs": [
        {
          "output_type": "stream",
          "name": "stdout",
          "text": [
            "Alice's salary: $800\n",
            "Bob's salary (with bonus): $1700\n"
          ]
        }
      ]
    },
    {
      "cell_type": "markdown",
      "source": [
        "✅ Explanation:\n",
        "\n",
        "* Employee class initializes name, hours_worked, and hourly_rate and computes salary as hours_worked * hourly_rate.\n",
        "\n",
        "* Manager class inherits from Employee, adds a bonus attribute, and overrides calculate_salary() to add the bonus on top of the base salary."
      ],
      "metadata": {
        "id": "_RNvtkrQjI7g"
      }
    },
    {
      "cell_type": "markdown",
      "source": [
        "15) Create a class Product with attributes name, price, and quantity. Implement a method total_price() that\n",
        "calculates the total price of the product.\n",
        "\n",
        "Ans- Here’s an implementation of a Product class with name, price, and quantity attributes, and a total_price() method to calculate the total price:\n",
        "\n",
        "\n",
        "\n",
        "\n"
      ],
      "metadata": {
        "id": "6smAagTFjMvA"
      }
    },
    {
      "cell_type": "code",
      "source": [
        "class Product:\n",
        "    def __init__(self, name, price, quantity):\n",
        "        self.name = name\n",
        "        self.price = price\n",
        "        self.quantity = quantity\n",
        "\n",
        "    def total_price(self):\n",
        "        return self.price * self.quantity\n",
        "\n",
        "# Example usage:\n",
        "product1 = Product(\"Laptop\", 800, 2)\n",
        "print(f\"Total price for {product1.quantity} {product1.name}(s): ${product1.total_price()}\")\n"
      ],
      "metadata": {
        "colab": {
          "base_uri": "https://localhost:8080/"
        },
        "id": "dcrNYsuRjW7u",
        "outputId": "b1bbd1f1-d6fd-4d71-f814-39f47a3a0d0c"
      },
      "execution_count": null,
      "outputs": [
        {
          "output_type": "stream",
          "name": "stdout",
          "text": [
            "Total price for 2 Laptop(s): $1600\n"
          ]
        }
      ]
    },
    {
      "cell_type": "markdown",
      "source": [
        "✅ Explanation:\n",
        "\n",
        "The __init__ method initializes the product’s name, price per unit, and quantity.\n",
        "\n",
        "The total_price() method returns the total by multiplying price and quantity."
      ],
      "metadata": {
        "id": "WJhkH3H8jaEn"
      }
    },
    {
      "cell_type": "markdown",
      "source": [
        "16. Create a class Animal with an abstract method sound(). Create two derived classes Cow and Sheep that\n",
        "implement the sound() method.\n",
        "\n",
        "Ans- To implement this, we'll use abstract classes from Python's abc module.\n",
        "\n",
        "Here’s the implementation:"
      ],
      "metadata": {
        "id": "TJ2gxNgUja4I"
      }
    },
    {
      "cell_type": "code",
      "source": [
        "from abc import ABC, abstractmethod\n",
        "\n",
        "class Animal(ABC):\n",
        "    @abstractmethod\n",
        "    def sound(self):\n",
        "        pass\n",
        "\n",
        "class Cow(Animal):\n",
        "    def sound(self):\n",
        "        return \"Moo\"\n",
        "\n",
        "class Sheep(Animal):\n",
        "    def sound(self):\n",
        "        return \"Baa\"\n",
        "\n",
        "# Example usage:\n",
        "cow = Cow()\n",
        "sheep = Sheep()\n",
        "\n",
        "print(f\"Cow sound: {cow.sound()}\")\n",
        "print(f\"Sheep sound: {sheep.sound()}\")\n"
      ],
      "metadata": {
        "colab": {
          "base_uri": "https://localhost:8080/"
        },
        "id": "Ned0Rs71xaVD",
        "outputId": "d04c9ac9-1287-4264-b77e-304525df24a0"
      },
      "execution_count": null,
      "outputs": [
        {
          "output_type": "stream",
          "name": "stdout",
          "text": [
            "Cow sound: Moo\n",
            "Sheep sound: Baa\n"
          ]
        }
      ]
    },
    {
      "cell_type": "markdown",
      "source": [
        "✅ Explanation:\n",
        "\n",
        "Animal is an abstract base class with an abstract method sound().\n",
        "\n",
        "Both Cow and Sheep inherit from Animal and provide their own implementation of sound().\n",
        "\n",
        "You cannot create an instance of Animal directly because it’s abstract."
      ],
      "metadata": {
        "id": "FSIKvir5xcYp"
      }
    },
    {
      "cell_type": "markdown",
      "source": [
        " 17) Create a class Book with attributes title, author, and year_published. Add a method get_book_info() that\n",
        "returns a formatted string with the book's details.\n",
        "\n",
        "ANS-"
      ],
      "metadata": {
        "id": "Wxfpw6EXxg4h"
      }
    },
    {
      "cell_type": "code",
      "source": [
        "class Book:\n",
        "    def __init__(self, title, author, year_published):\n",
        "        self.title = title\n",
        "        self.author = author\n",
        "        self.year_published = year_published\n",
        "\n",
        "    def get_book_info(self):\n",
        "        return f\"'{self.title}' by {self.author}, published in {self.year_published}\"\n",
        "\n",
        "# Example usage:\n",
        "book1 = Book(\"To Kill a Mockingbird\", \"Harper Lee\", 1960)\n",
        "print(book1.get_book_info())\n"
      ],
      "metadata": {
        "colab": {
          "base_uri": "https://localhost:8080/"
        },
        "id": "Ocrm2ZO6LRGb",
        "outputId": "afea600d-d3d6-4a71-9b5f-c3ab1ebf2c40"
      },
      "execution_count": 1,
      "outputs": [
        {
          "output_type": "stream",
          "name": "stdout",
          "text": [
            "'To Kill a Mockingbird' by Harper Lee, published in 1960\n"
          ]
        }
      ]
    },
    {
      "cell_type": "markdown",
      "source": [
        "✅ Explanation:\n",
        "\n",
        "The __init__ method initializes the attributes title, author, and year_published.\n",
        "\n",
        "The get_book_info() method returns a formatted string with the book’s details."
      ],
      "metadata": {
        "id": "8KnU1jWVLWPb"
      }
    },
    {
      "cell_type": "markdown",
      "source": [
        " 18) Create a class House with attributes address and price. Create a derived class Mansion that adds an\n",
        "attribute number_of_rooms.\n",
        "\n",
        "ANS-WE can define the House class and a derived Mansion class that adds the number_of_rooms attribute:"
      ],
      "metadata": {
        "id": "ZsPnLealLZX7"
      }
    },
    {
      "cell_type": "code",
      "source": [
        "class House:\n",
        "    def __init__(self, address, price):\n",
        "        self.address = address\n",
        "        self.price = price\n",
        "\n",
        "class Mansion(House):\n",
        "    def __init__(self, address, price, number_of_rooms):\n",
        "        super().__init__(address, price)\n",
        "        self.number_of_rooms = number_of_rooms\n",
        "\n",
        "# Example usage:\n",
        "mansion1 = Mansion(\"123 Luxury St\", 5000000, 10)\n",
        "print(f\"Address: {mansion1.address}\")\n",
        "print(f\"Price: ${mansion1.price}\")\n",
        "print(f\"Number of Rooms: {mansion1.number_of_rooms}\")\n"
      ],
      "metadata": {
        "colab": {
          "base_uri": "https://localhost:8080/"
        },
        "id": "6gSLtLS2LsFb",
        "outputId": "c7499c8b-f8a9-44c6-b801-c03330fbfdaf"
      },
      "execution_count": 2,
      "outputs": [
        {
          "output_type": "stream",
          "name": "stdout",
          "text": [
            "Address: 123 Luxury St\n",
            "Price: $5000000\n",
            "Number of Rooms: 10\n"
          ]
        }
      ]
    },
    {
      "cell_type": "markdown",
      "source": [
        "✅ Explanation:\n",
        "\n",
        "House has attributes address and price.\n",
        "\n",
        "Mansion inherits from House and adds number_of_rooms.\n",
        "\n",
        "super().__init__(...) is used to call the parent constructor."
      ],
      "metadata": {
        "id": "_fJPBnjDLxLs"
      }
    },
    {
      "cell_type": "markdown",
      "source": [],
      "metadata": {
        "id": "zBJiQxBqLzcz"
      }
    }
  ]
}